{
  "nbformat": 4,
  "nbformat_minor": 0,
  "metadata": {
    "colab": {
      "name": "3_RZD_predictions.ipynb",
      "provenance": [],
      "collapsed_sections": [],
      "authorship_tag": "ABX9TyNhfN2cuf0BzqSRJW/JG8n4",
      "include_colab_link": true
    },
    "kernelspec": {
      "name": "python3",
      "display_name": "Python 3"
    },
    "language_info": {
      "name": "python"
    }
  },
  "cells": [
    {
      "cell_type": "markdown",
      "metadata": {
        "id": "view-in-github",
        "colab_type": "text"
      },
      "source": [
        "<a href=\"https://colab.research.google.com/github/NataliaKolesnik/Intergalactic_hackathon/blob/master/3_RZD_predictions.ipynb\" target=\"_parent\"><img src=\"https://colab.research.google.com/assets/colab-badge.svg\" alt=\"Open In Colab\"/></a>"
      ]
    },
    {
      "cell_type": "markdown",
      "source": [
        "**Предсказание: Успеет ли произойти технологический процесс от изъятия вагона до включения в поезд в течении 36 часов вемени**"
      ],
      "metadata": {
        "id": "YA1TUq3-jHno"
      }
    },
    {
      "cell_type": "code",
      "execution_count": 1,
      "metadata": {
        "id": "1rWLsGvdVNhs"
      },
      "outputs": [],
      "source": [
        "import pandas as pd\n",
        "import numpy as np\n",
        "import matplotlib.pyplot as plt\n",
        "import seaborn as sns"
      ]
    },
    {
      "cell_type": "code",
      "source": [
        "# Импорт библиотек для обучения\n",
        "from sklearn.model_selection import train_test_split\n",
        "from sklearn.ensemble import RandomForestClassifier\n",
        "from sklearn.model_selection import GridSearchCV\n",
        "from sklearn.metrics import confusion_matrix, precision_score, recall_score, roc_auc_score, f1_score, accuracy_score"
      ],
      "metadata": {
        "id": "uQ7RB9zVAQng"
      },
      "execution_count": 2,
      "outputs": []
    },
    {
      "cell_type": "code",
      "source": [
        "# Загрузка данных из Наташиного csv файла\n",
        "\n",
        "from google.colab import drive\n",
        "drive.mount('/content/drive')\n",
        "path = '/content/drive/MyDrive/RZD'\n",
        "\n"
      ],
      "metadata": {
        "colab": {
          "base_uri": "https://localhost:8080/"
        },
        "id": "eN2TdlGqVOLr",
        "outputId": "b31fc30c-0d97-40c2-c52e-b703a0dddc96"
      },
      "execution_count": 3,
      "outputs": [
        {
          "output_type": "stream",
          "name": "stdout",
          "text": [
            "Drive already mounted at /content/drive; to attempt to forcibly remount, call drive.mount(\"/content/drive\", force_remount=True).\n"
          ]
        }
      ]
    },
    {
      "cell_type": "code",
      "source": [
        "# Датасет, полученный на этапе анализа, в которм отобраны только операции, удовлетворяющие нашим условиям\n",
        "data = pd.read_csv(path + '/data_34.csv')"
      ],
      "metadata": {
        "id": "Wzg0KnRZVkYt"
      },
      "execution_count": 4,
      "outputs": []
    },
    {
      "cell_type": "code",
      "source": [
        "data"
      ],
      "metadata": {
        "colab": {
          "base_uri": "https://localhost:8080/",
          "height": 627
        },
        "id": "vlmH1GkLWc-9",
        "outputId": "9429e8e7-6135-496a-efe8-a2496f297372"
      },
      "execution_count": 5,
      "outputs": [
        {
          "output_type": "execute_result",
          "data": {
            "text/plain": [
              "        станция     вагон  операция_первая  операция_последняя  \\\n",
              "0        830003  24579856                3                   4   \n",
              "1        830003  24622276                3                   4   \n",
              "2        830003  28034288                3                   4   \n",
              "3        830003  28035723                3                   4   \n",
              "4        830003  29019288                3                   4   \n",
              "...         ...       ...              ...                 ...   \n",
              "333668   998100  61320917                3                   4   \n",
              "333669   998100  62175377                3                   4   \n",
              "333670   998100  63750566                3                   4   \n",
              "333671   998100  66288432                3                   4   \n",
              "333672   998100  68169127                3                   4   \n",
              "\n",
              "                        все_операции  количество_операций  \\\n",
              "0       [3, 80, 19, 81, 4, 3, 18, 4]                    8   \n",
              "1             [3, 80, 28, 19, 81, 4]                    6   \n",
              "2             [3, 80, 28, 19, 81, 4]                    6   \n",
              "3                         [3, 81, 4]                    3   \n",
              "4                         [3, 18, 4]                    3   \n",
              "...                              ...                  ...   \n",
              "333668        [3, 78, 20, 18, 79, 4]                    6   \n",
              "333669        [3, 80, 21, 19, 81, 4]                    6   \n",
              "333670        [3, 80, 21, 19, 81, 4]                    6   \n",
              "333671        [3, 80, 21, 19, 81, 4]                    6   \n",
              "333672            [3, 78, 10, 79, 4]                    5   \n",
              "\n",
              "       время_первой_операции время_последней_операции  разница_времени  \\\n",
              "0        2020-07-26 18:38:00      2020-07-29 06:02:00  2 days 11:24:00   \n",
              "1        2020-07-15 23:32:00      2020-07-17 04:27:00  1 days 04:55:00   \n",
              "2        2020-07-25 00:21:00      2020-07-28 05:40:00  3 days 05:19:00   \n",
              "3        2020-07-23 16:57:00      2020-07-25 08:47:00  1 days 15:50:00   \n",
              "4        2020-07-24 20:51:00      2020-07-28 02:00:00  3 days 05:09:00   \n",
              "...                      ...                      ...              ...   \n",
              "333668   2020-07-07 15:07:00      2020-07-12 01:30:00  4 days 10:23:00   \n",
              "333669   2020-07-25 05:24:00      2020-07-29 15:00:00  4 days 09:36:00   \n",
              "333670   2020-07-25 05:24:00      2020-07-29 15:00:00  4 days 09:36:00   \n",
              "333671   2020-07-25 05:24:00      2020-07-29 15:00:00  4 days 09:36:00   \n",
              "333672   2020-07-22 08:20:00      2020-07-25 12:40:00  3 days 04:20:00   \n",
              "\n",
              "        станция_назначения  опасный_груз  код_груза  род_вагона  \\\n",
              "0                   830003           0.0          0        20.0   \n",
              "1                   830003           0.0          0        20.0   \n",
              "2                   830003           0.0          0        20.0   \n",
              "3                   830003           0.0          0        20.0   \n",
              "4                   830003           0.0          0        20.0   \n",
              "...                    ...           ...        ...         ...   \n",
              "333668              998100           0.0          0        60.0   \n",
              "333669              998100           0.0          0        60.0   \n",
              "333670              998100           0.0          0        60.0   \n",
              "333671              998100           0.0          0        60.0   \n",
              "333672              998100           0.0          0        60.0   \n",
              "\n",
              "        вес_тары_вагона  изм_станции     длительность  длительность_час  \\\n",
              "0                   NaN            0  2 days 11:24:00         59.400000   \n",
              "1                   NaN            0  1 days 04:55:00         28.916667   \n",
              "2                   NaN            0  3 days 05:19:00         77.316667   \n",
              "3                   NaN            0  1 days 15:50:00         39.833333   \n",
              "4                   NaN            0  3 days 05:09:00         77.150000   \n",
              "...                 ...          ...              ...               ...   \n",
              "333668              NaN            0  4 days 10:23:00        106.383333   \n",
              "333669              NaN            0  4 days 09:36:00        105.600000   \n",
              "333670              NaN            0  4 days 09:36:00        105.600000   \n",
              "333671              NaN            0  4 days 09:36:00        105.600000   \n",
              "333672              NaN            0  3 days 04:20:00         76.333333   \n",
              "\n",
              "        ст_опер_кол_ваг  ранг_станции  \n",
              "0                  1155             4  \n",
              "1                  1155             4  \n",
              "2                  1155             4  \n",
              "3                  1155             4  \n",
              "4                  1155             4  \n",
              "...                 ...           ...  \n",
              "333668               95             2  \n",
              "333669               95             2  \n",
              "333670               95             2  \n",
              "333671               95             2  \n",
              "333672               95             2  \n",
              "\n",
              "[333673 rows x 19 columns]"
            ],
            "text/html": [
              "\n",
              "  <div id=\"df-206f4a8c-744e-4c1d-8b85-66804b9b67c6\">\n",
              "    <div class=\"colab-df-container\">\n",
              "      <div>\n",
              "<style scoped>\n",
              "    .dataframe tbody tr th:only-of-type {\n",
              "        vertical-align: middle;\n",
              "    }\n",
              "\n",
              "    .dataframe tbody tr th {\n",
              "        vertical-align: top;\n",
              "    }\n",
              "\n",
              "    .dataframe thead th {\n",
              "        text-align: right;\n",
              "    }\n",
              "</style>\n",
              "<table border=\"1\" class=\"dataframe\">\n",
              "  <thead>\n",
              "    <tr style=\"text-align: right;\">\n",
              "      <th></th>\n",
              "      <th>станция</th>\n",
              "      <th>вагон</th>\n",
              "      <th>операция_первая</th>\n",
              "      <th>операция_последняя</th>\n",
              "      <th>все_операции</th>\n",
              "      <th>количество_операций</th>\n",
              "      <th>время_первой_операции</th>\n",
              "      <th>время_последней_операции</th>\n",
              "      <th>разница_времени</th>\n",
              "      <th>станция_назначения</th>\n",
              "      <th>опасный_груз</th>\n",
              "      <th>код_груза</th>\n",
              "      <th>род_вагона</th>\n",
              "      <th>вес_тары_вагона</th>\n",
              "      <th>изм_станции</th>\n",
              "      <th>длительность</th>\n",
              "      <th>длительность_час</th>\n",
              "      <th>ст_опер_кол_ваг</th>\n",
              "      <th>ранг_станции</th>\n",
              "    </tr>\n",
              "  </thead>\n",
              "  <tbody>\n",
              "    <tr>\n",
              "      <th>0</th>\n",
              "      <td>830003</td>\n",
              "      <td>24579856</td>\n",
              "      <td>3</td>\n",
              "      <td>4</td>\n",
              "      <td>[3, 80, 19, 81, 4, 3, 18, 4]</td>\n",
              "      <td>8</td>\n",
              "      <td>2020-07-26 18:38:00</td>\n",
              "      <td>2020-07-29 06:02:00</td>\n",
              "      <td>2 days 11:24:00</td>\n",
              "      <td>830003</td>\n",
              "      <td>0.0</td>\n",
              "      <td>0</td>\n",
              "      <td>20.0</td>\n",
              "      <td>NaN</td>\n",
              "      <td>0</td>\n",
              "      <td>2 days 11:24:00</td>\n",
              "      <td>59.400000</td>\n",
              "      <td>1155</td>\n",
              "      <td>4</td>\n",
              "    </tr>\n",
              "    <tr>\n",
              "      <th>1</th>\n",
              "      <td>830003</td>\n",
              "      <td>24622276</td>\n",
              "      <td>3</td>\n",
              "      <td>4</td>\n",
              "      <td>[3, 80, 28, 19, 81, 4]</td>\n",
              "      <td>6</td>\n",
              "      <td>2020-07-15 23:32:00</td>\n",
              "      <td>2020-07-17 04:27:00</td>\n",
              "      <td>1 days 04:55:00</td>\n",
              "      <td>830003</td>\n",
              "      <td>0.0</td>\n",
              "      <td>0</td>\n",
              "      <td>20.0</td>\n",
              "      <td>NaN</td>\n",
              "      <td>0</td>\n",
              "      <td>1 days 04:55:00</td>\n",
              "      <td>28.916667</td>\n",
              "      <td>1155</td>\n",
              "      <td>4</td>\n",
              "    </tr>\n",
              "    <tr>\n",
              "      <th>2</th>\n",
              "      <td>830003</td>\n",
              "      <td>28034288</td>\n",
              "      <td>3</td>\n",
              "      <td>4</td>\n",
              "      <td>[3, 80, 28, 19, 81, 4]</td>\n",
              "      <td>6</td>\n",
              "      <td>2020-07-25 00:21:00</td>\n",
              "      <td>2020-07-28 05:40:00</td>\n",
              "      <td>3 days 05:19:00</td>\n",
              "      <td>830003</td>\n",
              "      <td>0.0</td>\n",
              "      <td>0</td>\n",
              "      <td>20.0</td>\n",
              "      <td>NaN</td>\n",
              "      <td>0</td>\n",
              "      <td>3 days 05:19:00</td>\n",
              "      <td>77.316667</td>\n",
              "      <td>1155</td>\n",
              "      <td>4</td>\n",
              "    </tr>\n",
              "    <tr>\n",
              "      <th>3</th>\n",
              "      <td>830003</td>\n",
              "      <td>28035723</td>\n",
              "      <td>3</td>\n",
              "      <td>4</td>\n",
              "      <td>[3, 81, 4]</td>\n",
              "      <td>3</td>\n",
              "      <td>2020-07-23 16:57:00</td>\n",
              "      <td>2020-07-25 08:47:00</td>\n",
              "      <td>1 days 15:50:00</td>\n",
              "      <td>830003</td>\n",
              "      <td>0.0</td>\n",
              "      <td>0</td>\n",
              "      <td>20.0</td>\n",
              "      <td>NaN</td>\n",
              "      <td>0</td>\n",
              "      <td>1 days 15:50:00</td>\n",
              "      <td>39.833333</td>\n",
              "      <td>1155</td>\n",
              "      <td>4</td>\n",
              "    </tr>\n",
              "    <tr>\n",
              "      <th>4</th>\n",
              "      <td>830003</td>\n",
              "      <td>29019288</td>\n",
              "      <td>3</td>\n",
              "      <td>4</td>\n",
              "      <td>[3, 18, 4]</td>\n",
              "      <td>3</td>\n",
              "      <td>2020-07-24 20:51:00</td>\n",
              "      <td>2020-07-28 02:00:00</td>\n",
              "      <td>3 days 05:09:00</td>\n",
              "      <td>830003</td>\n",
              "      <td>0.0</td>\n",
              "      <td>0</td>\n",
              "      <td>20.0</td>\n",
              "      <td>NaN</td>\n",
              "      <td>0</td>\n",
              "      <td>3 days 05:09:00</td>\n",
              "      <td>77.150000</td>\n",
              "      <td>1155</td>\n",
              "      <td>4</td>\n",
              "    </tr>\n",
              "    <tr>\n",
              "      <th>...</th>\n",
              "      <td>...</td>\n",
              "      <td>...</td>\n",
              "      <td>...</td>\n",
              "      <td>...</td>\n",
              "      <td>...</td>\n",
              "      <td>...</td>\n",
              "      <td>...</td>\n",
              "      <td>...</td>\n",
              "      <td>...</td>\n",
              "      <td>...</td>\n",
              "      <td>...</td>\n",
              "      <td>...</td>\n",
              "      <td>...</td>\n",
              "      <td>...</td>\n",
              "      <td>...</td>\n",
              "      <td>...</td>\n",
              "      <td>...</td>\n",
              "      <td>...</td>\n",
              "      <td>...</td>\n",
              "    </tr>\n",
              "    <tr>\n",
              "      <th>333668</th>\n",
              "      <td>998100</td>\n",
              "      <td>61320917</td>\n",
              "      <td>3</td>\n",
              "      <td>4</td>\n",
              "      <td>[3, 78, 20, 18, 79, 4]</td>\n",
              "      <td>6</td>\n",
              "      <td>2020-07-07 15:07:00</td>\n",
              "      <td>2020-07-12 01:30:00</td>\n",
              "      <td>4 days 10:23:00</td>\n",
              "      <td>998100</td>\n",
              "      <td>0.0</td>\n",
              "      <td>0</td>\n",
              "      <td>60.0</td>\n",
              "      <td>NaN</td>\n",
              "      <td>0</td>\n",
              "      <td>4 days 10:23:00</td>\n",
              "      <td>106.383333</td>\n",
              "      <td>95</td>\n",
              "      <td>2</td>\n",
              "    </tr>\n",
              "    <tr>\n",
              "      <th>333669</th>\n",
              "      <td>998100</td>\n",
              "      <td>62175377</td>\n",
              "      <td>3</td>\n",
              "      <td>4</td>\n",
              "      <td>[3, 80, 21, 19, 81, 4]</td>\n",
              "      <td>6</td>\n",
              "      <td>2020-07-25 05:24:00</td>\n",
              "      <td>2020-07-29 15:00:00</td>\n",
              "      <td>4 days 09:36:00</td>\n",
              "      <td>998100</td>\n",
              "      <td>0.0</td>\n",
              "      <td>0</td>\n",
              "      <td>60.0</td>\n",
              "      <td>NaN</td>\n",
              "      <td>0</td>\n",
              "      <td>4 days 09:36:00</td>\n",
              "      <td>105.600000</td>\n",
              "      <td>95</td>\n",
              "      <td>2</td>\n",
              "    </tr>\n",
              "    <tr>\n",
              "      <th>333670</th>\n",
              "      <td>998100</td>\n",
              "      <td>63750566</td>\n",
              "      <td>3</td>\n",
              "      <td>4</td>\n",
              "      <td>[3, 80, 21, 19, 81, 4]</td>\n",
              "      <td>6</td>\n",
              "      <td>2020-07-25 05:24:00</td>\n",
              "      <td>2020-07-29 15:00:00</td>\n",
              "      <td>4 days 09:36:00</td>\n",
              "      <td>998100</td>\n",
              "      <td>0.0</td>\n",
              "      <td>0</td>\n",
              "      <td>60.0</td>\n",
              "      <td>NaN</td>\n",
              "      <td>0</td>\n",
              "      <td>4 days 09:36:00</td>\n",
              "      <td>105.600000</td>\n",
              "      <td>95</td>\n",
              "      <td>2</td>\n",
              "    </tr>\n",
              "    <tr>\n",
              "      <th>333671</th>\n",
              "      <td>998100</td>\n",
              "      <td>66288432</td>\n",
              "      <td>3</td>\n",
              "      <td>4</td>\n",
              "      <td>[3, 80, 21, 19, 81, 4]</td>\n",
              "      <td>6</td>\n",
              "      <td>2020-07-25 05:24:00</td>\n",
              "      <td>2020-07-29 15:00:00</td>\n",
              "      <td>4 days 09:36:00</td>\n",
              "      <td>998100</td>\n",
              "      <td>0.0</td>\n",
              "      <td>0</td>\n",
              "      <td>60.0</td>\n",
              "      <td>NaN</td>\n",
              "      <td>0</td>\n",
              "      <td>4 days 09:36:00</td>\n",
              "      <td>105.600000</td>\n",
              "      <td>95</td>\n",
              "      <td>2</td>\n",
              "    </tr>\n",
              "    <tr>\n",
              "      <th>333672</th>\n",
              "      <td>998100</td>\n",
              "      <td>68169127</td>\n",
              "      <td>3</td>\n",
              "      <td>4</td>\n",
              "      <td>[3, 78, 10, 79, 4]</td>\n",
              "      <td>5</td>\n",
              "      <td>2020-07-22 08:20:00</td>\n",
              "      <td>2020-07-25 12:40:00</td>\n",
              "      <td>3 days 04:20:00</td>\n",
              "      <td>998100</td>\n",
              "      <td>0.0</td>\n",
              "      <td>0</td>\n",
              "      <td>60.0</td>\n",
              "      <td>NaN</td>\n",
              "      <td>0</td>\n",
              "      <td>3 days 04:20:00</td>\n",
              "      <td>76.333333</td>\n",
              "      <td>95</td>\n",
              "      <td>2</td>\n",
              "    </tr>\n",
              "  </tbody>\n",
              "</table>\n",
              "<p>333673 rows × 19 columns</p>\n",
              "</div>\n",
              "      <button class=\"colab-df-convert\" onclick=\"convertToInteractive('df-206f4a8c-744e-4c1d-8b85-66804b9b67c6')\"\n",
              "              title=\"Convert this dataframe to an interactive table.\"\n",
              "              style=\"display:none;\">\n",
              "        \n",
              "  <svg xmlns=\"http://www.w3.org/2000/svg\" height=\"24px\"viewBox=\"0 0 24 24\"\n",
              "       width=\"24px\">\n",
              "    <path d=\"M0 0h24v24H0V0z\" fill=\"none\"/>\n",
              "    <path d=\"M18.56 5.44l.94 2.06.94-2.06 2.06-.94-2.06-.94-.94-2.06-.94 2.06-2.06.94zm-11 1L8.5 8.5l.94-2.06 2.06-.94-2.06-.94L8.5 2.5l-.94 2.06-2.06.94zm10 10l.94 2.06.94-2.06 2.06-.94-2.06-.94-.94-2.06-.94 2.06-2.06.94z\"/><path d=\"M17.41 7.96l-1.37-1.37c-.4-.4-.92-.59-1.43-.59-.52 0-1.04.2-1.43.59L10.3 9.45l-7.72 7.72c-.78.78-.78 2.05 0 2.83L4 21.41c.39.39.9.59 1.41.59.51 0 1.02-.2 1.41-.59l7.78-7.78 2.81-2.81c.8-.78.8-2.07 0-2.86zM5.41 20L4 18.59l7.72-7.72 1.47 1.35L5.41 20z\"/>\n",
              "  </svg>\n",
              "      </button>\n",
              "      \n",
              "  <style>\n",
              "    .colab-df-container {\n",
              "      display:flex;\n",
              "      flex-wrap:wrap;\n",
              "      gap: 12px;\n",
              "    }\n",
              "\n",
              "    .colab-df-convert {\n",
              "      background-color: #E8F0FE;\n",
              "      border: none;\n",
              "      border-radius: 50%;\n",
              "      cursor: pointer;\n",
              "      display: none;\n",
              "      fill: #1967D2;\n",
              "      height: 32px;\n",
              "      padding: 0 0 0 0;\n",
              "      width: 32px;\n",
              "    }\n",
              "\n",
              "    .colab-df-convert:hover {\n",
              "      background-color: #E2EBFA;\n",
              "      box-shadow: 0px 1px 2px rgba(60, 64, 67, 0.3), 0px 1px 3px 1px rgba(60, 64, 67, 0.15);\n",
              "      fill: #174EA6;\n",
              "    }\n",
              "\n",
              "    [theme=dark] .colab-df-convert {\n",
              "      background-color: #3B4455;\n",
              "      fill: #D2E3FC;\n",
              "    }\n",
              "\n",
              "    [theme=dark] .colab-df-convert:hover {\n",
              "      background-color: #434B5C;\n",
              "      box-shadow: 0px 1px 3px 1px rgba(0, 0, 0, 0.15);\n",
              "      filter: drop-shadow(0px 1px 2px rgba(0, 0, 0, 0.3));\n",
              "      fill: #FFFFFF;\n",
              "    }\n",
              "  </style>\n",
              "\n",
              "      <script>\n",
              "        const buttonEl =\n",
              "          document.querySelector('#df-206f4a8c-744e-4c1d-8b85-66804b9b67c6 button.colab-df-convert');\n",
              "        buttonEl.style.display =\n",
              "          google.colab.kernel.accessAllowed ? 'block' : 'none';\n",
              "\n",
              "        async function convertToInteractive(key) {\n",
              "          const element = document.querySelector('#df-206f4a8c-744e-4c1d-8b85-66804b9b67c6');\n",
              "          const dataTable =\n",
              "            await google.colab.kernel.invokeFunction('convertToInteractive',\n",
              "                                                     [key], {});\n",
              "          if (!dataTable) return;\n",
              "\n",
              "          const docLinkHtml = 'Like what you see? Visit the ' +\n",
              "            '<a target=\"_blank\" href=https://colab.research.google.com/notebooks/data_table.ipynb>data table notebook</a>'\n",
              "            + ' to learn more about interactive tables.';\n",
              "          element.innerHTML = '';\n",
              "          dataTable['output_type'] = 'display_data';\n",
              "          await google.colab.output.renderOutput(dataTable, element);\n",
              "          const docLink = document.createElement('div');\n",
              "          docLink.innerHTML = docLinkHtml;\n",
              "          element.appendChild(docLink);\n",
              "        }\n",
              "      </script>\n",
              "    </div>\n",
              "  </div>\n",
              "  "
            ]
          },
          "metadata": {},
          "execution_count": 5
        }
      ]
    },
    {
      "cell_type": "code",
      "source": [
        "data['st_vag'] = data.apply(lambda row: (row.станция, row.вагон), axis=1)"
      ],
      "metadata": {
        "id": "hM8xJmJyY8pN"
      },
      "execution_count": 6,
      "outputs": []
    },
    {
      "cell_type": "markdown",
      "source": [
        "Так как у нас бинарная классификация, то создаем целевую переменну. \n",
        "\n",
        "    1 - успеет за 36 часов\n",
        "    0 - не успеет за 36 часов"
      ],
      "metadata": {
        "id": "k9GA-fUFj_m-"
      }
    },
    {
      "cell_type": "code",
      "source": [
        "data['присоединение_36ч'] = data['длительность_час'].apply(lambda x: 1 if x <= 36 else 0)"
      ],
      "metadata": {
        "id": "D-y76gYyaC3_"
      },
      "execution_count": 7,
      "outputs": []
    },
    {
      "cell_type": "code",
      "source": [
        "# длитеность в технол. процесса по количеству оперций\n",
        "data['количество_операций'].max()"
      ],
      "metadata": {
        "colab": {
          "base_uri": "https://localhost:8080/"
        },
        "id": "1jYrapPxvjsQ",
        "outputId": "d2dbcf2b-f132-49c3-a3e2-2c7dc0800926"
      },
      "execution_count": 8,
      "outputs": [
        {
          "output_type": "execute_result",
          "data": {
            "text/plain": [
              "127"
            ]
          },
          "metadata": {},
          "execution_count": 8
        }
      ]
    },
    {
      "cell_type": "markdown",
      "source": [
        "Максимальное количество операций 127, но при анализе мы выяснили, что технологический процесс до 36 укладывается в 12 операций. Поэтому целесообразно взять чуть больше, например 20."
      ],
      "metadata": {
        "id": "hMTEOEz7xDNs"
      }
    },
    {
      "cell_type": "code",
      "source": [
        "oper = data['все_операции'].values\n",
        "i =  20  # Количество признаков - операций\n",
        "for el in range(oper.shape[0]):\n",
        "    x = oper[el].replace('[','').replace(']','').split(',')\n",
        "    x = [int(j) for j in x]\n",
        "    if len(x) >= i:\n",
        "        oper[el] = np.array(x[:i])\n",
        "    else:\n",
        "        k0 = i - len(x)\n",
        "        x=x+[0]*k0 \n",
        "        oper[el] = np.array(x[:i])"
      ],
      "metadata": {
        "id": "m6hrrb-yvR2m"
      },
      "execution_count": 9,
      "outputs": []
    },
    {
      "cell_type": "code",
      "source": [
        "proc = {}\n",
        "col = ['опер.№_'+str(i) for i in range(20)]\n",
        "for el in range(len(col)):\n",
        "    proc[col[el]] = [oper[i][el] for i in range(oper.shape[0])]\n"
      ],
      "metadata": {
        "id": "oXplOXTF0TwC"
      },
      "execution_count": 10,
      "outputs": []
    },
    {
      "cell_type": "code",
      "source": [
        "# Датасет технологических операции\n",
        "df_tex_proc = pd.DataFrame(proc)"
      ],
      "metadata": {
        "id": "rwp82ObK8SdZ"
      },
      "execution_count": 11,
      "outputs": []
    },
    {
      "cell_type": "code",
      "source": [
        "# Сформируем из ДатаСета выборку признаков\n",
        "data_tr = data[['st_vag', 'ранг_станции', 'изм_станции', 'количество_операций', 'ст_опер_кол_ваг' ,'присоединение_36ч']].copy()"
      ],
      "metadata": {
        "id": "GCTQWpnLuKXI"
      },
      "execution_count": 12,
      "outputs": []
    },
    {
      "cell_type": "code",
      "source": [
        "# Сконкотенируем два ДатаСета\n",
        "data_tr = pd.concat([data_tr, df_tex_proc], axis=1)"
      ],
      "metadata": {
        "id": "c_xKoamGum9q"
      },
      "execution_count": 13,
      "outputs": []
    },
    {
      "cell_type": "code",
      "source": [
        "# Получили готовый для обучения датасет\n",
        "data_tr"
      ],
      "metadata": {
        "colab": {
          "base_uri": "https://localhost:8080/",
          "height": 659
        },
        "id": "c-_V8lya1krN",
        "outputId": "c87dfbfb-da56-4b42-c363-88fa1113a648"
      },
      "execution_count": 14,
      "outputs": [
        {
          "output_type": "execute_result",
          "data": {
            "text/plain": [
              "                    st_vag  ранг_станции  изм_станции  количество_операций  \\\n",
              "0       (830003, 24579856)             4            0                    8   \n",
              "1       (830003, 24622276)             4            0                    6   \n",
              "2       (830003, 28034288)             4            0                    6   \n",
              "3       (830003, 28035723)             4            0                    3   \n",
              "4       (830003, 29019288)             4            0                    3   \n",
              "...                    ...           ...          ...                  ...   \n",
              "333668  (998100, 61320917)             2            0                    6   \n",
              "333669  (998100, 62175377)             2            0                    6   \n",
              "333670  (998100, 63750566)             2            0                    6   \n",
              "333671  (998100, 66288432)             2            0                    6   \n",
              "333672  (998100, 68169127)             2            0                    5   \n",
              "\n",
              "        ст_опер_кол_ваг  присоединение_36ч  опер.№_0  опер.№_1  опер.№_2  \\\n",
              "0                  1155                  0         3        80        19   \n",
              "1                  1155                  1         3        80        28   \n",
              "2                  1155                  0         3        80        28   \n",
              "3                  1155                  0         3        81         4   \n",
              "4                  1155                  0         3        18         4   \n",
              "...                 ...                ...       ...       ...       ...   \n",
              "333668               95                  0         3        78        20   \n",
              "333669               95                  0         3        80        21   \n",
              "333670               95                  0         3        80        21   \n",
              "333671               95                  0         3        80        21   \n",
              "333672               95                  0         3        78        10   \n",
              "\n",
              "        опер.№_3  ...  опер.№_10  опер.№_11  опер.№_12  опер.№_13  опер.№_14  \\\n",
              "0             81  ...          0          0          0          0          0   \n",
              "1             19  ...          0          0          0          0          0   \n",
              "2             19  ...          0          0          0          0          0   \n",
              "3              0  ...          0          0          0          0          0   \n",
              "4              0  ...          0          0          0          0          0   \n",
              "...          ...  ...        ...        ...        ...        ...        ...   \n",
              "333668        18  ...          0          0          0          0          0   \n",
              "333669        19  ...          0          0          0          0          0   \n",
              "333670        19  ...          0          0          0          0          0   \n",
              "333671        19  ...          0          0          0          0          0   \n",
              "333672        79  ...          0          0          0          0          0   \n",
              "\n",
              "        опер.№_15  опер.№_16  опер.№_17  опер.№_18  опер.№_19  \n",
              "0               0          0          0          0          0  \n",
              "1               0          0          0          0          0  \n",
              "2               0          0          0          0          0  \n",
              "3               0          0          0          0          0  \n",
              "4               0          0          0          0          0  \n",
              "...           ...        ...        ...        ...        ...  \n",
              "333668          0          0          0          0          0  \n",
              "333669          0          0          0          0          0  \n",
              "333670          0          0          0          0          0  \n",
              "333671          0          0          0          0          0  \n",
              "333672          0          0          0          0          0  \n",
              "\n",
              "[333673 rows x 26 columns]"
            ],
            "text/html": [
              "\n",
              "  <div id=\"df-5e09ca83-5427-4597-b02e-ce73bff2aed4\">\n",
              "    <div class=\"colab-df-container\">\n",
              "      <div>\n",
              "<style scoped>\n",
              "    .dataframe tbody tr th:only-of-type {\n",
              "        vertical-align: middle;\n",
              "    }\n",
              "\n",
              "    .dataframe tbody tr th {\n",
              "        vertical-align: top;\n",
              "    }\n",
              "\n",
              "    .dataframe thead th {\n",
              "        text-align: right;\n",
              "    }\n",
              "</style>\n",
              "<table border=\"1\" class=\"dataframe\">\n",
              "  <thead>\n",
              "    <tr style=\"text-align: right;\">\n",
              "      <th></th>\n",
              "      <th>st_vag</th>\n",
              "      <th>ранг_станции</th>\n",
              "      <th>изм_станции</th>\n",
              "      <th>количество_операций</th>\n",
              "      <th>ст_опер_кол_ваг</th>\n",
              "      <th>присоединение_36ч</th>\n",
              "      <th>опер.№_0</th>\n",
              "      <th>опер.№_1</th>\n",
              "      <th>опер.№_2</th>\n",
              "      <th>опер.№_3</th>\n",
              "      <th>...</th>\n",
              "      <th>опер.№_10</th>\n",
              "      <th>опер.№_11</th>\n",
              "      <th>опер.№_12</th>\n",
              "      <th>опер.№_13</th>\n",
              "      <th>опер.№_14</th>\n",
              "      <th>опер.№_15</th>\n",
              "      <th>опер.№_16</th>\n",
              "      <th>опер.№_17</th>\n",
              "      <th>опер.№_18</th>\n",
              "      <th>опер.№_19</th>\n",
              "    </tr>\n",
              "  </thead>\n",
              "  <tbody>\n",
              "    <tr>\n",
              "      <th>0</th>\n",
              "      <td>(830003, 24579856)</td>\n",
              "      <td>4</td>\n",
              "      <td>0</td>\n",
              "      <td>8</td>\n",
              "      <td>1155</td>\n",
              "      <td>0</td>\n",
              "      <td>3</td>\n",
              "      <td>80</td>\n",
              "      <td>19</td>\n",
              "      <td>81</td>\n",
              "      <td>...</td>\n",
              "      <td>0</td>\n",
              "      <td>0</td>\n",
              "      <td>0</td>\n",
              "      <td>0</td>\n",
              "      <td>0</td>\n",
              "      <td>0</td>\n",
              "      <td>0</td>\n",
              "      <td>0</td>\n",
              "      <td>0</td>\n",
              "      <td>0</td>\n",
              "    </tr>\n",
              "    <tr>\n",
              "      <th>1</th>\n",
              "      <td>(830003, 24622276)</td>\n",
              "      <td>4</td>\n",
              "      <td>0</td>\n",
              "      <td>6</td>\n",
              "      <td>1155</td>\n",
              "      <td>1</td>\n",
              "      <td>3</td>\n",
              "      <td>80</td>\n",
              "      <td>28</td>\n",
              "      <td>19</td>\n",
              "      <td>...</td>\n",
              "      <td>0</td>\n",
              "      <td>0</td>\n",
              "      <td>0</td>\n",
              "      <td>0</td>\n",
              "      <td>0</td>\n",
              "      <td>0</td>\n",
              "      <td>0</td>\n",
              "      <td>0</td>\n",
              "      <td>0</td>\n",
              "      <td>0</td>\n",
              "    </tr>\n",
              "    <tr>\n",
              "      <th>2</th>\n",
              "      <td>(830003, 28034288)</td>\n",
              "      <td>4</td>\n",
              "      <td>0</td>\n",
              "      <td>6</td>\n",
              "      <td>1155</td>\n",
              "      <td>0</td>\n",
              "      <td>3</td>\n",
              "      <td>80</td>\n",
              "      <td>28</td>\n",
              "      <td>19</td>\n",
              "      <td>...</td>\n",
              "      <td>0</td>\n",
              "      <td>0</td>\n",
              "      <td>0</td>\n",
              "      <td>0</td>\n",
              "      <td>0</td>\n",
              "      <td>0</td>\n",
              "      <td>0</td>\n",
              "      <td>0</td>\n",
              "      <td>0</td>\n",
              "      <td>0</td>\n",
              "    </tr>\n",
              "    <tr>\n",
              "      <th>3</th>\n",
              "      <td>(830003, 28035723)</td>\n",
              "      <td>4</td>\n",
              "      <td>0</td>\n",
              "      <td>3</td>\n",
              "      <td>1155</td>\n",
              "      <td>0</td>\n",
              "      <td>3</td>\n",
              "      <td>81</td>\n",
              "      <td>4</td>\n",
              "      <td>0</td>\n",
              "      <td>...</td>\n",
              "      <td>0</td>\n",
              "      <td>0</td>\n",
              "      <td>0</td>\n",
              "      <td>0</td>\n",
              "      <td>0</td>\n",
              "      <td>0</td>\n",
              "      <td>0</td>\n",
              "      <td>0</td>\n",
              "      <td>0</td>\n",
              "      <td>0</td>\n",
              "    </tr>\n",
              "    <tr>\n",
              "      <th>4</th>\n",
              "      <td>(830003, 29019288)</td>\n",
              "      <td>4</td>\n",
              "      <td>0</td>\n",
              "      <td>3</td>\n",
              "      <td>1155</td>\n",
              "      <td>0</td>\n",
              "      <td>3</td>\n",
              "      <td>18</td>\n",
              "      <td>4</td>\n",
              "      <td>0</td>\n",
              "      <td>...</td>\n",
              "      <td>0</td>\n",
              "      <td>0</td>\n",
              "      <td>0</td>\n",
              "      <td>0</td>\n",
              "      <td>0</td>\n",
              "      <td>0</td>\n",
              "      <td>0</td>\n",
              "      <td>0</td>\n",
              "      <td>0</td>\n",
              "      <td>0</td>\n",
              "    </tr>\n",
              "    <tr>\n",
              "      <th>...</th>\n",
              "      <td>...</td>\n",
              "      <td>...</td>\n",
              "      <td>...</td>\n",
              "      <td>...</td>\n",
              "      <td>...</td>\n",
              "      <td>...</td>\n",
              "      <td>...</td>\n",
              "      <td>...</td>\n",
              "      <td>...</td>\n",
              "      <td>...</td>\n",
              "      <td>...</td>\n",
              "      <td>...</td>\n",
              "      <td>...</td>\n",
              "      <td>...</td>\n",
              "      <td>...</td>\n",
              "      <td>...</td>\n",
              "      <td>...</td>\n",
              "      <td>...</td>\n",
              "      <td>...</td>\n",
              "      <td>...</td>\n",
              "      <td>...</td>\n",
              "    </tr>\n",
              "    <tr>\n",
              "      <th>333668</th>\n",
              "      <td>(998100, 61320917)</td>\n",
              "      <td>2</td>\n",
              "      <td>0</td>\n",
              "      <td>6</td>\n",
              "      <td>95</td>\n",
              "      <td>0</td>\n",
              "      <td>3</td>\n",
              "      <td>78</td>\n",
              "      <td>20</td>\n",
              "      <td>18</td>\n",
              "      <td>...</td>\n",
              "      <td>0</td>\n",
              "      <td>0</td>\n",
              "      <td>0</td>\n",
              "      <td>0</td>\n",
              "      <td>0</td>\n",
              "      <td>0</td>\n",
              "      <td>0</td>\n",
              "      <td>0</td>\n",
              "      <td>0</td>\n",
              "      <td>0</td>\n",
              "    </tr>\n",
              "    <tr>\n",
              "      <th>333669</th>\n",
              "      <td>(998100, 62175377)</td>\n",
              "      <td>2</td>\n",
              "      <td>0</td>\n",
              "      <td>6</td>\n",
              "      <td>95</td>\n",
              "      <td>0</td>\n",
              "      <td>3</td>\n",
              "      <td>80</td>\n",
              "      <td>21</td>\n",
              "      <td>19</td>\n",
              "      <td>...</td>\n",
              "      <td>0</td>\n",
              "      <td>0</td>\n",
              "      <td>0</td>\n",
              "      <td>0</td>\n",
              "      <td>0</td>\n",
              "      <td>0</td>\n",
              "      <td>0</td>\n",
              "      <td>0</td>\n",
              "      <td>0</td>\n",
              "      <td>0</td>\n",
              "    </tr>\n",
              "    <tr>\n",
              "      <th>333670</th>\n",
              "      <td>(998100, 63750566)</td>\n",
              "      <td>2</td>\n",
              "      <td>0</td>\n",
              "      <td>6</td>\n",
              "      <td>95</td>\n",
              "      <td>0</td>\n",
              "      <td>3</td>\n",
              "      <td>80</td>\n",
              "      <td>21</td>\n",
              "      <td>19</td>\n",
              "      <td>...</td>\n",
              "      <td>0</td>\n",
              "      <td>0</td>\n",
              "      <td>0</td>\n",
              "      <td>0</td>\n",
              "      <td>0</td>\n",
              "      <td>0</td>\n",
              "      <td>0</td>\n",
              "      <td>0</td>\n",
              "      <td>0</td>\n",
              "      <td>0</td>\n",
              "    </tr>\n",
              "    <tr>\n",
              "      <th>333671</th>\n",
              "      <td>(998100, 66288432)</td>\n",
              "      <td>2</td>\n",
              "      <td>0</td>\n",
              "      <td>6</td>\n",
              "      <td>95</td>\n",
              "      <td>0</td>\n",
              "      <td>3</td>\n",
              "      <td>80</td>\n",
              "      <td>21</td>\n",
              "      <td>19</td>\n",
              "      <td>...</td>\n",
              "      <td>0</td>\n",
              "      <td>0</td>\n",
              "      <td>0</td>\n",
              "      <td>0</td>\n",
              "      <td>0</td>\n",
              "      <td>0</td>\n",
              "      <td>0</td>\n",
              "      <td>0</td>\n",
              "      <td>0</td>\n",
              "      <td>0</td>\n",
              "    </tr>\n",
              "    <tr>\n",
              "      <th>333672</th>\n",
              "      <td>(998100, 68169127)</td>\n",
              "      <td>2</td>\n",
              "      <td>0</td>\n",
              "      <td>5</td>\n",
              "      <td>95</td>\n",
              "      <td>0</td>\n",
              "      <td>3</td>\n",
              "      <td>78</td>\n",
              "      <td>10</td>\n",
              "      <td>79</td>\n",
              "      <td>...</td>\n",
              "      <td>0</td>\n",
              "      <td>0</td>\n",
              "      <td>0</td>\n",
              "      <td>0</td>\n",
              "      <td>0</td>\n",
              "      <td>0</td>\n",
              "      <td>0</td>\n",
              "      <td>0</td>\n",
              "      <td>0</td>\n",
              "      <td>0</td>\n",
              "    </tr>\n",
              "  </tbody>\n",
              "</table>\n",
              "<p>333673 rows × 26 columns</p>\n",
              "</div>\n",
              "      <button class=\"colab-df-convert\" onclick=\"convertToInteractive('df-5e09ca83-5427-4597-b02e-ce73bff2aed4')\"\n",
              "              title=\"Convert this dataframe to an interactive table.\"\n",
              "              style=\"display:none;\">\n",
              "        \n",
              "  <svg xmlns=\"http://www.w3.org/2000/svg\" height=\"24px\"viewBox=\"0 0 24 24\"\n",
              "       width=\"24px\">\n",
              "    <path d=\"M0 0h24v24H0V0z\" fill=\"none\"/>\n",
              "    <path d=\"M18.56 5.44l.94 2.06.94-2.06 2.06-.94-2.06-.94-.94-2.06-.94 2.06-2.06.94zm-11 1L8.5 8.5l.94-2.06 2.06-.94-2.06-.94L8.5 2.5l-.94 2.06-2.06.94zm10 10l.94 2.06.94-2.06 2.06-.94-2.06-.94-.94-2.06-.94 2.06-2.06.94z\"/><path d=\"M17.41 7.96l-1.37-1.37c-.4-.4-.92-.59-1.43-.59-.52 0-1.04.2-1.43.59L10.3 9.45l-7.72 7.72c-.78.78-.78 2.05 0 2.83L4 21.41c.39.39.9.59 1.41.59.51 0 1.02-.2 1.41-.59l7.78-7.78 2.81-2.81c.8-.78.8-2.07 0-2.86zM5.41 20L4 18.59l7.72-7.72 1.47 1.35L5.41 20z\"/>\n",
              "  </svg>\n",
              "      </button>\n",
              "      \n",
              "  <style>\n",
              "    .colab-df-container {\n",
              "      display:flex;\n",
              "      flex-wrap:wrap;\n",
              "      gap: 12px;\n",
              "    }\n",
              "\n",
              "    .colab-df-convert {\n",
              "      background-color: #E8F0FE;\n",
              "      border: none;\n",
              "      border-radius: 50%;\n",
              "      cursor: pointer;\n",
              "      display: none;\n",
              "      fill: #1967D2;\n",
              "      height: 32px;\n",
              "      padding: 0 0 0 0;\n",
              "      width: 32px;\n",
              "    }\n",
              "\n",
              "    .colab-df-convert:hover {\n",
              "      background-color: #E2EBFA;\n",
              "      box-shadow: 0px 1px 2px rgba(60, 64, 67, 0.3), 0px 1px 3px 1px rgba(60, 64, 67, 0.15);\n",
              "      fill: #174EA6;\n",
              "    }\n",
              "\n",
              "    [theme=dark] .colab-df-convert {\n",
              "      background-color: #3B4455;\n",
              "      fill: #D2E3FC;\n",
              "    }\n",
              "\n",
              "    [theme=dark] .colab-df-convert:hover {\n",
              "      background-color: #434B5C;\n",
              "      box-shadow: 0px 1px 3px 1px rgba(0, 0, 0, 0.15);\n",
              "      filter: drop-shadow(0px 1px 2px rgba(0, 0, 0, 0.3));\n",
              "      fill: #FFFFFF;\n",
              "    }\n",
              "  </style>\n",
              "\n",
              "      <script>\n",
              "        const buttonEl =\n",
              "          document.querySelector('#df-5e09ca83-5427-4597-b02e-ce73bff2aed4 button.colab-df-convert');\n",
              "        buttonEl.style.display =\n",
              "          google.colab.kernel.accessAllowed ? 'block' : 'none';\n",
              "\n",
              "        async function convertToInteractive(key) {\n",
              "          const element = document.querySelector('#df-5e09ca83-5427-4597-b02e-ce73bff2aed4');\n",
              "          const dataTable =\n",
              "            await google.colab.kernel.invokeFunction('convertToInteractive',\n",
              "                                                     [key], {});\n",
              "          if (!dataTable) return;\n",
              "\n",
              "          const docLinkHtml = 'Like what you see? Visit the ' +\n",
              "            '<a target=\"_blank\" href=https://colab.research.google.com/notebooks/data_table.ipynb>data table notebook</a>'\n",
              "            + ' to learn more about interactive tables.';\n",
              "          element.innerHTML = '';\n",
              "          dataTable['output_type'] = 'display_data';\n",
              "          await google.colab.output.renderOutput(dataTable, element);\n",
              "          const docLink = document.createElement('div');\n",
              "          docLink.innerHTML = docLinkHtml;\n",
              "          element.appendChild(docLink);\n",
              "        }\n",
              "      </script>\n",
              "    </div>\n",
              "  </div>\n",
              "  "
            ]
          },
          "metadata": {},
          "execution_count": 14
        }
      ]
    },
    {
      "cell_type": "code",
      "source": [
        "# Распределение по классам неравномерное. Учтем при разбиении на тренировочную и тестовую выборки\n",
        "data_tr['присоединение_36ч'].value_counts(normalize=True)"
      ],
      "metadata": {
        "id": "xm-lWki9CQFe",
        "colab": {
          "base_uri": "https://localhost:8080/"
        },
        "outputId": "27398798-961d-44f8-da8f-fedd0382bf59"
      },
      "execution_count": 15,
      "outputs": [
        {
          "output_type": "execute_result",
          "data": {
            "text/plain": [
              "0    0.703407\n",
              "1    0.296593\n",
              "Name: присоединение_36ч, dtype: float64"
            ]
          },
          "metadata": {},
          "execution_count": 15
        }
      ]
    },
    {
      "cell_type": "markdown",
      "source": [
        "**Обучение**"
      ],
      "metadata": {
        "id": "T1ZivRqvk08r"
      }
    },
    {
      "cell_type": "code",
      "source": [
        "def metrics(y_test, y_pred):\n",
        "    \"\"\"Комплексный расчет метрик\"\"\"\n",
        "    \n",
        "    conf_matrix = confusion_matrix(y_test, y_pred)\n",
        "    precision = precision_score(y_test, y_pred).round(4)\n",
        "    recall = recall_score(y_test, y_pred).round(4)\n",
        "    roc_auc = roc_auc_score(y_test, y_pred).round(4)\n",
        "    f1 = f1_score(y_test, y_pred).round(4)\n",
        "    accuracy = accuracy_score(y_test, y_pred)\n",
        "    \n",
        "    # Если необходимо вывести метрики на печать - раскомментировать\n",
        "    print('Матрица:')\n",
        "    print(conf_matrix)\n",
        "    print('точность (precision) - ', precision)\n",
        "    print('полнота (recall) -', recall)\n",
        "    print('roc_auc - ', roc_auc)\n",
        "    print('f1_score - ', f1)\n",
        "    print('accuracy - ', accuracy)\n",
        "\n",
        "    \n",
        "    #return {'conf_matrix': conf_matrix, 'precision': precision, 'recall': recall, 'roc_auc': roc_auc, 'f1': f1}"
      ],
      "metadata": {
        "id": "0-8GXyJmG5-z"
      },
      "execution_count": 16,
      "outputs": []
    },
    {
      "cell_type": "code",
      "source": [
        "RANDOM_STATE = 42"
      ],
      "metadata": {
        "id": "dXCINStaDuu5"
      },
      "execution_count": 17,
      "outputs": []
    },
    {
      "cell_type": "code",
      "source": [
        "# Разбиваем на признаки и целевую переменную\n",
        "X = data_tr.drop(['st_vag', 'присоединение_36ч'], axis=1)\n",
        "Y = data_tr['присоединение_36ч']\n"
      ],
      "metadata": {
        "id": "sRpNqu2EC8nL"
      },
      "execution_count": 18,
      "outputs": []
    },
    {
      "cell_type": "code",
      "source": [
        "# Разобъем нашу выборку на обучающую и тестовую\n",
        "X_train, X_test, Y_train, Y_test = train_test_split(X,Y, test_size=0.2, random_state=RANDOM_STATE, shuffle=True, stratify=Y)"
      ],
      "metadata": {
        "id": "sgWicEgEEIQ8"
      },
      "execution_count": 19,
      "outputs": []
    },
    {
      "cell_type": "code",
      "source": [
        "# Разделим X_train на тестовую и валидационную выборки\n",
        "X_train, X_valid, Y_train, Y_valid = train_test_split(X_train,Y_train, test_size=0.2, random_state=RANDOM_STATE, shuffle=True, stratify=Y_train)"
      ],
      "metadata": {
        "id": "5EuVjWxLPAqw"
      },
      "execution_count": 20,
      "outputs": []
    },
    {
      "cell_type": "markdown",
      "source": [
        "**RandomForestClassifier**"
      ],
      "metadata": {
        "id": "65kFy4E1KEtv"
      }
    },
    {
      "cell_type": "code",
      "source": [
        "# Для таких признаков лучше всего подойдет модель Смешанный лес. \n",
        "# Так как Смешаннй лес не чуствительный к разному масштабу данных, то масштабировать данные не будем."
      ],
      "metadata": {
        "id": "jlXaFKbmlbc2"
      },
      "execution_count": 21,
      "outputs": []
    },
    {
      "cell_type": "code",
      "source": [
        "clf_RFC = RandomForestClassifier(n_estimators=15, random_state=RANDOM_STATE)\n",
        "clf_RFC = clf_RFC.fit(X_train, Y_train)\n",
        "Y_pred = clf_RFC.predict(X_test)\n",
        "metrics(Y_test, Y_pred)"
      ],
      "metadata": {
        "colab": {
          "base_uri": "https://localhost:8080/"
        },
        "id": "e5zWANjEErYY",
        "outputId": "85ebd4d0-232a-4fec-d169-8cc7ec36d264"
      },
      "execution_count": 22,
      "outputs": [
        {
          "output_type": "stream",
          "name": "stdout",
          "text": [
            "Матрица:\n",
            "[[42187  4755]\n",
            " [ 4733 15060]]\n",
            "точность (precision) -  0.76\n",
            "полнота (recall) - 0.7609\n",
            "roc_auc -  0.8298\n",
            "f1_score -  0.7605\n",
            "accuracy -  0.8578257286281561\n"
          ]
        }
      ]
    },
    {
      "cell_type": "markdown",
      "source": [
        "**Метрики качества:**\n",
        "\n",
        "Точность и полнота получились сбалансированными между собой и составляют по 76%.  \n",
        "Что так же видно и по конфигурационной матрице ошиок.\n",
        "\n",
        "accuracy (доляверных ответов) - 86%"
      ],
      "metadata": {
        "id": "invrc1TcpIbE"
      }
    },
    {
      "cell_type": "code",
      "source": [
        "RF_feaches = pd.Series(clf_RFC.feature_importances_)\n",
        "RF_feaches.index = X.columns\n",
        "RF_feaches = RF_feaches.sort_values(ascending=False)\n",
        "\n",
        "RF_feaches[:i].plot.bar(figsize=(20,5))\n",
        "plt.ylabel('Уровень значимости признаков')\n",
        "plt.title('Распределение признаков в модели классификации RandomForestClassifier', fontsize = 17)\n",
        "plt.show()"
      ],
      "metadata": {
        "colab": {
          "base_uri": "https://localhost:8080/",
          "height": 446
        },
        "id": "DfzfnH0A-HVK",
        "outputId": "2b767e7d-a3ca-4f98-e55b-0e18d59a484e"
      },
      "execution_count": 23,
      "outputs": [
        {
          "output_type": "display_data",
          "data": {
            "text/plain": [
              "<Figure size 1440x360 with 1 Axes>"
            ],
            "image/png": "[encoded data removed]"
          },
          "metadata": {
            "needs_background": "light"
          }
        }
      ]
    },
    {
      "cell_type": "markdown",
      "source": [
        "**Наиболее важными признаками модель определила:**\n",
        "1. Пропускная способность станции (сколько она обслужила вагонов в месяце)\n",
        "2. Конечная эта или транзитная станция\n",
        "3. Первые операции технологического процесса (1-4)\n",
        "4. Ранг станции - это распределение станций по группам, в зависимости от пропускной способности\n",
        "5. Количество операций технологического процесса над вагоном \n",
        "\n",
        "Эти же признаки нами выявили и в результате анализа данных.\n",
        "\n"
      ],
      "metadata": {
        "id": "dxyHIJCvnanC"
      }
    },
    {
      "cell_type": "code",
      "source": [
        "# Считает долго - без нужды не запускать\n",
        "# # Подбор гиперпараметров\n",
        "# n_estimators = [10, 25, 40, 60,75]\n",
        "# max_features = [4,6,8,10]\n",
        "# max_depth = [2,3,7,11,15]\n",
        "# min_samples_split = [2,3,4,22,23,24]\n",
        "# min_samples_leaf = [2,3,4,5,6,7]\n",
        "# bootstrap = [False]\n",
        "# param_grid = {'n_estimators': n_estimators,\n",
        "#                'max_features': max_features,\n",
        "#                'max_depth': max_depth,\n",
        "#                'min_samples_split': min_samples_split,\n",
        "#                'min_samples_leaf': min_samples_leaf,\n",
        "#                'bootstrap': bootstrap}\n",
        "# gs = GridSearchCV(clf_RFC, param_grid, cv = 3, verbose = 1, n_jobs=-1)\n",
        "# gs.fit(X_valid, Y_valid)\n",
        "# clf_RFC = gs.best_estimator_\n",
        "# gs.best_params_"
      ],
      "metadata": {
        "id": "lznRJhOnOpfv"
      },
      "execution_count": 24,
      "outputs": []
    },
    {
      "cell_type": "code",
      "source": [
        "clf_RFC_bp = RandomForestClassifier(n_estimators=60, \n",
        "                                    bootstrap=False,\n",
        "                                    max_depth=15,\n",
        "                                    max_features=10,\n",
        "                                    min_samples_leaf=2,\n",
        "                                    min_samples_split=2,\n",
        "                                    random_state=RANDOM_STATE)\n",
        "clf_RFC_bp = clf_RFC_bp.fit(X_train, Y_train)\n",
        "Y_pred = clf_RFC_bp.predict(X_test)\n",
        "metrics(Y_test, Y_pred)"
      ],
      "metadata": {
        "colab": {
          "base_uri": "https://localhost:8080/"
        },
        "id": "hSrs27YSOpis",
        "outputId": "02354b03-f1a3-47d2-e3f9-016125b123e2"
      },
      "execution_count": 25,
      "outputs": [
        {
          "output_type": "stream",
          "name": "stdout",
          "text": [
            "Матрица:\n",
            "[[43210  3732]\n",
            " [ 6388 13405]]\n",
            "точность (precision) -  0.7822\n",
            "полнота (recall) - 0.6773\n",
            "roc_auc -  0.7989\n",
            "f1_score -  0.726\n",
            "accuracy -  0.8483554356784296\n"
          ]
        }
      ]
    },
    {
      "cell_type": "code",
      "source": [
        "RF_feaches = pd.Series(clf_RFC.feature_importances_)\n",
        "RF_feaches.index = X.columns\n",
        "RF_feaches = RF_feaches.sort_values(ascending=False)\n",
        "\n",
        "RF_feaches[:i].plot.bar(figsize=(20,5))\n",
        "plt.ylabel('Уровень значимости признаков')\n",
        "plt.title('Распределение признаков в модели классификации RandomForestClassifier', fontsize = 17)\n",
        "plt.show()"
      ],
      "metadata": {
        "colab": {
          "base_uri": "https://localhost:8080/",
          "height": 446
        },
        "id": "JRVK7UHqfM4h",
        "outputId": "ce0b91e2-5419-4b85-f476-012c16eaedf5"
      },
      "execution_count": 26,
      "outputs": [
        {
          "output_type": "display_data",
          "data": {
            "text/plain": [
              "<Figure size 1440x360 with 1 Axes>"
            ],
            "image/png": "[encoded data removed]"
          },
          "metadata": {
            "needs_background": "light"
          }
        }
      ]
    },
    {
      "cell_type": "markdown",
      "source": [
        "Гиперпараметры картину не изменили, а даже ухудшили по многим метрикам. Распределение признаков осталось прежнем. Оставим базовую модель\n",
        "\n"
      ],
      "metadata": {
        "id": "EiK11GQd_rQ-"
      }
    },
    {
      "cell_type": "code",
      "source": [
        ""
      ],
      "metadata": {
        "id": "I6fhvM5JfNCI"
      },
      "execution_count": 26,
      "outputs": []
    }
  ]
}