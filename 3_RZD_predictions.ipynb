{
  "nbformat": 4,
  "nbformat_minor": 0,
  "metadata": {
    "colab": {
      "name": "3_RZD_predictions.ipynb",
      "provenance": [],
      "collapsed_sections": [],
      "authorship_tag": "ABX9TyMEBU9y5FoGC735Z3J/QP77",
      "include_colab_link": true
    },
    "kernelspec": {
      "name": "python3",
      "display_name": "Python 3"
    },
    "language_info": {
      "name": "python"
    },
    "widgets": {
      "application/vnd.jupyter.widget-state+json": {
        "6af6f0fbb920455a83bb398c46ec9a90": {
          "model_module": "catboost-widget",
          "model_name": "CatboostWidgetModel",
          "model_module_version": "^1.0.0",
          "state": {
            "_dom_classes": [],
            "_model_module": "catboost-widget",
            "_model_module_version": "^1.0.0",
            "_model_name": "CatboostWidgetModel",
            "_view_count": null,
            "_view_module": "catboost-widget",
            "_view_module_version": "^1.0.0",
            "_view_name": "CatboostWidgetView",
            "data": {
              "catboost_info": {
                "path": "catboost_info",
                "name": "catboost_info",
                "content": {
                  "passed_iterations": 999,
                  "total_iterations": 1000,
                  "data": {
                    "iterations": [
                      {
                        "learn": [
                          0.6876768052,
                          0.7870568953
                        ],
                        "iteration": 0,
                        "passed_time": 3.22195179,
                        "remaining_time": 3218.729839,
                        "test": [
                          0.6876941138,
                          0.7657227481,
                          0.7856447142
                        ]
                      },
                      {
                        "learn": [
                          0.5845019873,
                          0.801025521
                        ],
                        "iteration": 25,
                        "passed_time": 27.40003398,
                        "remaining_time": 1026.447427,
                        "test": [
                          0.5849457075,
                          0.7957719783,
                          0.8001610849
                        ]
                      },
                      {
                        "learn": [
                          0.5311262583,
                          0.8016155467
                        ],
                        "iteration": 50,
                        "passed_time": 48.84375821,
                        "remaining_time": 908.8769909,
                        "test": [
                          0.5319168486,
                          0.8005435105,
                          0.8007792013
                        ]
                      },
                      {
                        "learn": [
                          0.5000934983,
                          0.8019527043
                        ],
                        "iteration": 75,
                        "passed_time": 69.85548528,
                        "remaining_time": 849.2956368,
                        "test": [
                          0.5011637461,
                          0.8122227933,
                          0.8008915861
                        ]
                      },
                      {
                        "learn": [
                          0.4819307632,
                          0.80532428
                        ],
                        "iteration": 100,
                        "passed_time": 92.168265,
                        "remaining_time": 820.3888142,
                        "test": [
                          0.4830958035,
                          0.8213266175,
                          0.8039259759
                        ]
                      },
                      {
                        "learn": [
                          0.4684638783,
                          0.8054881761
                        ],
                        "iteration": 125,
                        "passed_time": 114.8700364,
                        "remaining_time": 796.7969189,
                        "test": [
                          0.4699465646,
                          0.8273660497,
                          0.8041507455
                        ]
                      },
                      {
                        "learn": [
                          0.4573017412,
                          0.8079185203
                        ],
                        "iteration": 150,
                        "passed_time": 137.703686,
                        "remaining_time": 774.2412543,
                        "test": [
                          0.4589870147,
                          0.8334090017,
                          0.8065295572
                        ]
                      },
                      {
                        "learn": [
                          0.4485847767,
                          0.8093889019
                        ],
                        "iteration": 175,
                        "passed_time": 159.715229,
                        "remaining_time": 747.7576631,
                        "test": [
                          0.4503511474,
                          0.837712449,
                          0.8085337529
                        ]
                      },
                      {
                        "learn": [
                          0.442203456,
                          0.8165815968
                        ],
                        "iteration": 200,
                        "passed_time": 182.3793573,
                        "remaining_time": 724.9806291,
                        "test": [
                          0.44408662,
                          0.841581268,
                          0.8146961864
                        ]
                      },
                      {
                        "learn": [
                          0.4372748743,
                          0.8167501756
                        ],
                        "iteration": 225,
                        "passed_time": 203.8192325,
                        "remaining_time": 698.0357785,
                        "test": [
                          0.4392651923,
                          0.843872578,
                          0.8147711096
                        ]
                      },
                      {
                        "learn": [
                          0.4328427596,
                          0.8169234371
                        ],
                        "iteration": 250,
                        "passed_time": 225.6188827,
                        "remaining_time": 673.2611279,
                        "test": [
                          0.434936084,
                          0.8463218544,
                          0.8153330336
                        ]
                      },
                      {
                        "learn": [
                          0.4292803736,
                          0.8183095294
                        ],
                        "iteration": 275,
                        "passed_time": 248.1627267,
                        "remaining_time": 650.9775874,
                        "test": [
                          0.4315009565,
                          0.8485518486,
                          0.8171124597
                        ]
                      },
                      {
                        "learn": [
                          0.4261999836,
                          0.8187778038
                        ],
                        "iteration": 300,
                        "passed_time": 270.711309,
                        "remaining_time": 628.6618106,
                        "test": [
                          0.4284841103,
                          0.851410869,
                          0.8173372293
                        ]
                      },
                      {
                        "learn": [
                          0.4236070724,
                          0.820824163
                        ],
                        "iteration": 325,
                        "passed_time": 293.2573115,
                        "remaining_time": 606.3049937,
                        "test": [
                          0.425922476,
                          0.8525932123,
                          0.8188544242
                        ]
                      },
                      {
                        "learn": [
                          0.4212160193,
                          0.8221212831
                        ],
                        "iteration": 350,
                        "passed_time": 314.7818889,
                        "remaining_time": 582.0326094,
                        "test": [
                          0.4236106727,
                          0.8543338487,
                          0.8205776579
                        ]
                      },
                      {
                        "learn": [
                          0.4190750802,
                          0.8222992273
                        ],
                        "iteration": 375,
                        "passed_time": 337.1519515,
                        "remaining_time": 559.5287705,
                        "test": [
                          0.4215269808,
                          0.8558403077,
                          0.8206525811
                        ]
                      },
                      {
                        "learn": [
                          0.417046812,
                          0.8221119176
                        ],
                        "iteration": 400,
                        "passed_time": 359.1366913,
                        "remaining_time": 536.4660302,
                        "test": [
                          0.4195098766,
                          0.8576663101,
                          0.8203716191
                        ]
                      },
                      {
                        "learn": [
                          0.415293203,
                          0.8224162959
                        ],
                        "iteration": 425,
                        "passed_time": 381.2968024,
                        "remaining_time": 513.7661141,
                        "test": [
                          0.4177678357,
                          0.8589552233,
                          0.8208211583
                        ]
                      },
                      {
                        "learn": [
                          0.4135129908,
                          0.8227066261
                        ],
                        "iteration": 450,
                        "passed_time": 403.0496079,
                        "remaining_time": 490.6302322,
                        "test": [
                          0.4159883033,
                          0.8603124563,
                          0.8214580055
                        ]
                      },
                      {
                        "learn": [
                          0.4120092157,
                          0.8229220323
                        ],
                        "iteration": 475,
                        "passed_time": 427.0701002,
                        "remaining_time": 470.1359927,
                        "test": [
                          0.4144558817,
                          0.8622970784,
                          0.8215516595
                        ]
                      },
                      {
                        "learn": [
                          0.410505474,
                          0.8229594943
                        ],
                        "iteration": 500,
                        "passed_time": 449.3683683,
                        "remaining_time": 447.5744826,
                        "test": [
                          0.4129556844,
                          0.8635242529,
                          0.8215703903
                        ]
                      },
                      {
                        "learn": [
                          0.4089854932,
                          0.8230156872
                        ],
                        "iteration": 525,
                        "passed_time": 471.6900484,
                        "remaining_time": 425.059093,
                        "test": [
                          0.4114116806,
                          0.8651763123,
                          0.8214954671
                        ]
                      },
                      {
                        "learn": [
                          0.4075053777,
                          0.8230156872
                        ],
                        "iteration": 550,
                        "passed_time": 494.8567756,
                        "remaining_time": 403.2498952,
                        "test": [
                          0.4099733055,
                          0.8666941931,
                          0.8214392747
                        ]
                      },
                      {
                        "learn": [
                          0.4060809058,
                          0.8230156872
                        ],
                        "iteration": 575,
                        "passed_time": 517.4513165,
                        "remaining_time": 380.9016635,
                        "test": [
                          0.4085445488,
                          0.8678558108,
                          0.8214580055
                        ]
                      },
                      {
                        "learn": [
                          0.4045890718,
                          0.8229313978
                        ],
                        "iteration": 600,
                        "passed_time": 541.2903898,
                        "remaining_time": 359.3591772,
                        "test": [
                          0.4070595784,
                          0.8690717612,
                          0.8212145051
                        ]
                      },
                      {
                        "learn": [
                          0.4031991114,
                          0.8231795832
                        ],
                        "iteration": 625,
                        "passed_time": 563.4261483,
                        "remaining_time": 336.6156222,
                        "test": [
                          0.4057031774,
                          0.8702099542,
                          0.8214767363
                        ]
                      },
                      {
                        "learn": [
                          0.4020181924,
                          0.823146804
                        ],
                        "iteration": 650,
                        "passed_time": 585.7211504,
                        "remaining_time": 314.004119,
                        "test": [
                          0.4045396387,
                          0.8709685999,
                          0.8214205439
                        ]
                      },
                      {
                        "learn": [
                          0.4008023118,
                          0.823530789
                        ],
                        "iteration": 675,
                        "passed_time": 608.6349284,
                        "remaining_time": 291.7125988,
                        "test": [
                          0.4033794092,
                          0.8716497608,
                          0.8217389676
                        ]
                      },
                      {
                        "learn": [
                          0.3995571163,
                          0.8236665886
                        ],
                        "iteration": 700,
                        "passed_time": 631.7736586,
                        "remaining_time": 269.4726447,
                        "test": [
                          0.402133072,
                          0.8725267119,
                          0.8220948528
                        ]
                      },
                      {
                        "learn": [
                          0.3982040647,
                          0.8239990635
                        ],
                        "iteration": 725,
                        "passed_time": 654.4996931,
                        "remaining_time": 247.0150357,
                        "test": [
                          0.4007515458,
                          0.8737483462,
                          0.8223008916
                        ]
                      },
                      {
                        "learn": [
                          0.3970770302,
                          0.8240880356
                        ],
                        "iteration": 750,
                        "passed_time": 676.4241681,
                        "remaining_time": 224.2737921,
                        "test": [
                          0.3996617885,
                          0.8743477668,
                          0.8223383532
                        ]
                      },
                      {
                        "learn": [
                          0.395934776,
                          0.8242332007
                        ],
                        "iteration": 775,
                        "passed_time": 699.0707268,
                        "remaining_time": 201.7936119,
                        "test": [
                          0.3985565517,
                          0.8757061517,
                          0.8223758148
                        ]
                      },
                      {
                        "learn": [
                          0.3949887695,
                          0.8242378834
                        ],
                        "iteration": 800,
                        "passed_time": 721.3601936,
                        "remaining_time": 179.2143302,
                        "test": [
                          0.397634756,
                          0.8761555316,
                          0.8223196224
                        ]
                      },
                      {
                        "learn": [
                          0.3942189685,
                          0.8242847108
                        ],
                        "iteration": 825,
                        "passed_time": 742.4722177,
                        "remaining_time": 156.4045592,
                        "test": [
                          0.3968956957,
                          0.8764743173,
                          0.8224132764
                        ]
                      },
                      {
                        "learn": [
                          0.3933943402,
                          0.8259611332
                        ],
                        "iteration": 850,
                        "passed_time": 764.6085236,
                        "remaining_time": 133.8738778,
                        "test": [
                          0.3960711854,
                          0.8771571918,
                          0.8242301641
                        ]
                      },
                      {
                        "learn": [
                          0.3925690731,
                          0.8263029735
                        ],
                        "iteration": 875,
                        "passed_time": 786.165018,
                        "remaining_time": 111.2836327,
                        "test": [
                          0.3952571419,
                          0.8777461314,
                          0.8248482805
                        ]
                      },
                      {
                        "learn": [
                          0.3914454322,
                          0.8263778974
                        ],
                        "iteration": 900,
                        "passed_time": 809.6707275,
                        "remaining_time": 88.96493011,
                        "test": [
                          0.3941600688,
                          0.8787046714,
                          0.8248482805
                        ]
                      },
                      {
                        "learn": [
                          0.3905475224,
                          0.8265371107
                        ],
                        "iteration": 925,
                        "passed_time": 832.1290827,
                        "remaining_time": 66.49843641,
                        "test": [
                          0.3933042794,
                          0.8795479078,
                          0.8249044729
                        ]
                      },
                      {
                        "learn": [
                          0.3898216111,
                          0.8266448139
                        ],
                        "iteration": 950,
                        "passed_time": 852.9787665,
                        "remaining_time": 43.94948429,
                        "test": [
                          0.3925933937,
                          0.8801288521,
                          0.8251105117
                        ]
                      },
                      {
                        "learn": [
                          0.3890803114,
                          0.8271411847
                        ],
                        "iteration": 975,
                        "passed_time": 874.7512415,
                        "remaining_time": 21.51027643,
                        "test": [
                          0.3919003851,
                          0.8805789836,
                          0.8254102045
                        ]
                      },
                      {
                        "learn": [
                          0.3883175462,
                          0.8271833294
                        ],
                        "iteration": 999,
                        "passed_time": 896.3319847,
                        "remaining_time": 0,
                        "test": [
                          0.391168845,
                          0.8811076005,
                          0.8254289353
                        ]
                      }
                    ],
                    "meta": {
                      "test_sets": [
                        "test"
                      ],
                      "test_metrics": [
                        {
                          "best_value": "Min",
                          "name": "Logloss"
                        },
                        {
                          "best_value": "Max",
                          "name": "AUC"
                        },
                        {
                          "best_value": "Max",
                          "name": "Accuracy"
                        }
                      ],
                      "learn_metrics": [
                        {
                          "best_value": "Min",
                          "name": "Logloss"
                        },
                        {
                          "best_value": "Max",
                          "name": "Accuracy"
                        }
                      ],
                      "launch_mode": "Train",
                      "parameters": "",
                      "iteration_count": 1000,
                      "learn_sets": [
                        "learn"
                      ],
                      "name": "experiment"
                    }
                  }
                }
              }
            },
            "layout": "IPY_MODEL_d392eabda56341ecb840c120d2b69edf"
          }
        }
      }
    }
  },
  "cells": [
    {
      "cell_type": "markdown",
      "metadata": {
        "id": "view-in-github",
        "colab_type": "text"
      },
      "source": [
        "<a href=\"https://colab.research.google.com/github/NataliaKolesnik/Intergalactic_hackathon/blob/master/3_RZD_predictions.ipynb\" target=\"_parent\"><img src=\"https://colab.research.google.com/assets/colab-badge.svg\" alt=\"Open In Colab\"/></a>"
      ]
    },
    {
      "cell_type": "markdown",
      "source": [
        "**Предсказание: Успеет ли произойти технологический процесс от изъятия вагона до включения в поезд в течении 36 часов вемени**"
      ],
      "metadata": {
        "id": "YA1TUq3-jHno"
      }
    },
    {
      "cell_type": "code",
      "source": [
        "!pip install catboost"
      ],
      "metadata": {
        "colab": {
          "base_uri": "https://localhost:8080/"
        },
        "id": "wDuHcrNNNOjJ",
        "outputId": "f23afa62-1fc3-4a0d-ce16-a2823f27fe49"
      },
      "execution_count": 1,
      "outputs": [
        {
          "output_type": "stream",
          "name": "stdout",
          "text": [
            "Looking in indexes: https://pypi.org/simple, https://us-python.pkg.dev/colab-wheels/public/simple/\n",
            "Requirement already satisfied: catboost in /usr/local/lib/python3.7/dist-packages (1.0.6)\n",
            "Requirement already satisfied: matplotlib in /usr/local/lib/python3.7/dist-packages (from catboost) (3.2.2)\n",
            "Requirement already satisfied: graphviz in /usr/local/lib/python3.7/dist-packages (from catboost) (0.10.1)\n",
            "Requirement already satisfied: scipy in /usr/local/lib/python3.7/dist-packages (from catboost) (1.4.1)\n",
            "Requirement already satisfied: pandas>=0.24.0 in /usr/local/lib/python3.7/dist-packages (from catboost) (1.3.5)\n",
            "Requirement already satisfied: plotly in /usr/local/lib/python3.7/dist-packages (from catboost) (5.5.0)\n",
            "Requirement already satisfied: six in /usr/local/lib/python3.7/dist-packages (from catboost) (1.15.0)\n",
            "Requirement already satisfied: numpy>=1.16.0 in /usr/local/lib/python3.7/dist-packages (from catboost) (1.21.6)\n",
            "Requirement already satisfied: python-dateutil>=2.7.3 in /usr/local/lib/python3.7/dist-packages (from pandas>=0.24.0->catboost) (2.8.2)\n",
            "Requirement already satisfied: pytz>=2017.3 in /usr/local/lib/python3.7/dist-packages (from pandas>=0.24.0->catboost) (2022.1)\n",
            "Requirement already satisfied: cycler>=0.10 in /usr/local/lib/python3.7/dist-packages (from matplotlib->catboost) (0.11.0)\n",
            "Requirement already satisfied: kiwisolver>=1.0.1 in /usr/local/lib/python3.7/dist-packages (from matplotlib->catboost) (1.4.2)\n",
            "Requirement already satisfied: pyparsing!=2.0.4,!=2.1.2,!=2.1.6,>=2.0.1 in /usr/local/lib/python3.7/dist-packages (from matplotlib->catboost) (3.0.9)\n",
            "Requirement already satisfied: typing-extensions in /usr/local/lib/python3.7/dist-packages (from kiwisolver>=1.0.1->matplotlib->catboost) (4.2.0)\n",
            "Requirement already satisfied: tenacity>=6.2.0 in /usr/local/lib/python3.7/dist-packages (from plotly->catboost) (8.0.1)\n"
          ]
        }
      ]
    },
    {
      "cell_type": "code",
      "execution_count": 2,
      "metadata": {
        "id": "1rWLsGvdVNhs"
      },
      "outputs": [],
      "source": [
        "import pandas as pd\n",
        "import numpy as np\n",
        "import matplotlib.pyplot as plt\n",
        "import seaborn as sns\n",
        "import pickle # для сохранения модели"
      ]
    },
    {
      "cell_type": "code",
      "source": [
        "# Импорт библиотек для обучения\n",
        "from sklearn.model_selection import train_test_split\n",
        "from sklearn.ensemble import RandomForestClassifier\n",
        "from sklearn.model_selection import GridSearchCV\n",
        "from sklearn.metrics import confusion_matrix, precision_score, recall_score, roc_auc_score, f1_score, accuracy_score, auc"
      ],
      "metadata": {
        "id": "uQ7RB9zVAQng"
      },
      "execution_count": 3,
      "outputs": []
    },
    {
      "cell_type": "code",
      "source": [
        "import catboost\n",
        "from catboost import CatBoostClassifier, Pool\n",
        "from catboost.utils import get_roc_curve, get_fpr_curve, get_fnr_curve, select_threshold\n",
        "from catboost.eval.catboost_evaluation import *\n",
        "from catboost.eval.evaluation_result import *"
      ],
      "metadata": {
        "id": "og90qnCBNrJT"
      },
      "execution_count": 4,
      "outputs": []
    },
    {
      "cell_type": "code",
      "source": [
        "# Загрузка данных из Наташиного csv файла\n",
        "\n",
        "from google.colab import drive\n",
        "drive.mount('/content/drive')\n",
        "path = '/content/drive/MyDrive/RZD/'\n",
        "\n"
      ],
      "metadata": {
        "colab": {
          "base_uri": "https://localhost:8080/"
        },
        "id": "eN2TdlGqVOLr",
        "outputId": "5c6a84a4-bcad-4240-a29a-180bbd5e5a23"
      },
      "execution_count": 5,
      "outputs": [
        {
          "output_type": "stream",
          "name": "stdout",
          "text": [
            "Drive already mounted at /content/drive; to attempt to forcibly remount, call drive.mount(\"/content/drive\", force_remount=True).\n"
          ]
        }
      ]
    },
    {
      "cell_type": "code",
      "source": [
        "# Датасет, полученный на этапе анализа, в которм отобраны только операции, удовлетворяющие нашим условиям\n",
        "data = pd.read_csv(path + 'data_34.csv')"
      ],
      "metadata": {
        "id": "Wzg0KnRZVkYt"
      },
      "execution_count": 6,
      "outputs": []
    },
    {
      "cell_type": "code",
      "source": [
        "data"
      ],
      "metadata": {
        "colab": {
          "base_uri": "https://localhost:8080/",
          "height": 627
        },
        "id": "vlmH1GkLWc-9",
        "outputId": "ea57de03-c2d1-40a7-9419-0f92bb84c958"
      },
      "execution_count": 7,
      "outputs": [
        {
          "output_type": "execute_result",
          "data": {
            "text/plain": [
              "        станция     вагон  операция_первая  операция_последняя  \\\n",
              "0        830003  24579856                3                   4   \n",
              "1        830003  24622276                3                   4   \n",
              "2        830003  28034288                3                   4   \n",
              "3        830003  28035723                3                   4   \n",
              "4        830003  29019288                3                   4   \n",
              "...         ...       ...              ...                 ...   \n",
              "333668   998100  61320917                3                   4   \n",
              "333669   998100  62175377                3                   4   \n",
              "333670   998100  63750566                3                   4   \n",
              "333671   998100  66288432                3                   4   \n",
              "333672   998100  68169127                3                   4   \n",
              "\n",
              "                        все_операции  количество_операций  \\\n",
              "0       [3, 80, 19, 81, 4, 3, 18, 4]                    8   \n",
              "1             [3, 80, 28, 19, 81, 4]                    6   \n",
              "2             [3, 80, 28, 19, 81, 4]                    6   \n",
              "3                         [3, 81, 4]                    3   \n",
              "4                         [3, 18, 4]                    3   \n",
              "...                              ...                  ...   \n",
              "333668        [3, 78, 20, 18, 79, 4]                    6   \n",
              "333669        [3, 80, 21, 19, 81, 4]                    6   \n",
              "333670        [3, 80, 21, 19, 81, 4]                    6   \n",
              "333671        [3, 80, 21, 19, 81, 4]                    6   \n",
              "333672            [3, 78, 10, 79, 4]                    5   \n",
              "\n",
              "       время_первой_операции время_последней_операции  разница_времени  \\\n",
              "0        2020-07-26 18:38:00      2020-07-29 06:02:00  2 days 11:24:00   \n",
              "1        2020-07-15 23:32:00      2020-07-17 04:27:00  1 days 04:55:00   \n",
              "2        2020-07-25 00:21:00      2020-07-28 05:40:00  3 days 05:19:00   \n",
              "3        2020-07-23 16:57:00      2020-07-25 08:47:00  1 days 15:50:00   \n",
              "4        2020-07-24 20:51:00      2020-07-28 02:00:00  3 days 05:09:00   \n",
              "...                      ...                      ...              ...   \n",
              "333668   2020-07-07 15:07:00      2020-07-12 01:30:00  4 days 10:23:00   \n",
              "333669   2020-07-25 05:24:00      2020-07-29 15:00:00  4 days 09:36:00   \n",
              "333670   2020-07-25 05:24:00      2020-07-29 15:00:00  4 days 09:36:00   \n",
              "333671   2020-07-25 05:24:00      2020-07-29 15:00:00  4 days 09:36:00   \n",
              "333672   2020-07-22 08:20:00      2020-07-25 12:40:00  3 days 04:20:00   \n",
              "\n",
              "        станция_назначения  опасный_груз  код_груза  род_вагона  \\\n",
              "0                   830003           0.0          0        20.0   \n",
              "1                   830003           0.0          0        20.0   \n",
              "2                   830003           0.0          0        20.0   \n",
              "3                   830003           0.0          0        20.0   \n",
              "4                   830003           0.0          0        20.0   \n",
              "...                    ...           ...        ...         ...   \n",
              "333668              998100           0.0          0        60.0   \n",
              "333669              998100           0.0          0        60.0   \n",
              "333670              998100           0.0          0        60.0   \n",
              "333671              998100           0.0          0        60.0   \n",
              "333672              998100           0.0          0        60.0   \n",
              "\n",
              "        вес_тары_вагона  изм_станции     длительность  длительность_час  \\\n",
              "0                   NaN            0  2 days 11:24:00         59.400000   \n",
              "1                   NaN            0  1 days 04:55:00         28.916667   \n",
              "2                   NaN            0  3 days 05:19:00         77.316667   \n",
              "3                   NaN            0  1 days 15:50:00         39.833333   \n",
              "4                   NaN            0  3 days 05:09:00         77.150000   \n",
              "...                 ...          ...              ...               ...   \n",
              "333668              NaN            0  4 days 10:23:00        106.383333   \n",
              "333669              NaN            0  4 days 09:36:00        105.600000   \n",
              "333670              NaN            0  4 days 09:36:00        105.600000   \n",
              "333671              NaN            0  4 days 09:36:00        105.600000   \n",
              "333672              NaN            0  3 days 04:20:00         76.333333   \n",
              "\n",
              "        ст_опер_кол_ваг  ранг_станции  \n",
              "0                  1155             4  \n",
              "1                  1155             4  \n",
              "2                  1155             4  \n",
              "3                  1155             4  \n",
              "4                  1155             4  \n",
              "...                 ...           ...  \n",
              "333668               95             2  \n",
              "333669               95             2  \n",
              "333670               95             2  \n",
              "333671               95             2  \n",
              "333672               95             2  \n",
              "\n",
              "[333673 rows x 19 columns]"
            ],
            "text/html": [
              "\n",
              "  <div id=\"df-64f255ee-f171-4d33-9c00-8fd2ec55125d\">\n",
              "    <div class=\"colab-df-container\">\n",
              "      <div>\n",
              "<style scoped>\n",
              "    .dataframe tbody tr th:only-of-type {\n",
              "        vertical-align: middle;\n",
              "    }\n",
              "\n",
              "    .dataframe tbody tr th {\n",
              "        vertical-align: top;\n",
              "    }\n",
              "\n",
              "    .dataframe thead th {\n",
              "        text-align: right;\n",
              "    }\n",
              "</style>\n",
              "<table border=\"1\" class=\"dataframe\">\n",
              "  <thead>\n",
              "    <tr style=\"text-align: right;\">\n",
              "      <th></th>\n",
              "      <th>станция</th>\n",
              "      <th>вагон</th>\n",
              "      <th>операция_первая</th>\n",
              "      <th>операция_последняя</th>\n",
              "      <th>все_операции</th>\n",
              "      <th>количество_операций</th>\n",
              "      <th>время_первой_операции</th>\n",
              "      <th>время_последней_операции</th>\n",
              "      <th>разница_времени</th>\n",
              "      <th>станция_назначения</th>\n",
              "      <th>опасный_груз</th>\n",
              "      <th>код_груза</th>\n",
              "      <th>род_вагона</th>\n",
              "      <th>вес_тары_вагона</th>\n",
              "      <th>изм_станции</th>\n",
              "      <th>длительность</th>\n",
              "      <th>длительность_час</th>\n",
              "      <th>ст_опер_кол_ваг</th>\n",
              "      <th>ранг_станции</th>\n",
              "    </tr>\n",
              "  </thead>\n",
              "  <tbody>\n",
              "    <tr>\n",
              "      <th>0</th>\n",
              "      <td>830003</td>\n",
              "      <td>24579856</td>\n",
              "      <td>3</td>\n",
              "      <td>4</td>\n",
              "      <td>[3, 80, 19, 81, 4, 3, 18, 4]</td>\n",
              "      <td>8</td>\n",
              "      <td>2020-07-26 18:38:00</td>\n",
              "      <td>2020-07-29 06:02:00</td>\n",
              "      <td>2 days 11:24:00</td>\n",
              "      <td>830003</td>\n",
              "      <td>0.0</td>\n",
              "      <td>0</td>\n",
              "      <td>20.0</td>\n",
              "      <td>NaN</td>\n",
              "      <td>0</td>\n",
              "      <td>2 days 11:24:00</td>\n",
              "      <td>59.400000</td>\n",
              "      <td>1155</td>\n",
              "      <td>4</td>\n",
              "    </tr>\n",
              "    <tr>\n",
              "      <th>1</th>\n",
              "      <td>830003</td>\n",
              "      <td>24622276</td>\n",
              "      <td>3</td>\n",
              "      <td>4</td>\n",
              "      <td>[3, 80, 28, 19, 81, 4]</td>\n",
              "      <td>6</td>\n",
              "      <td>2020-07-15 23:32:00</td>\n",
              "      <td>2020-07-17 04:27:00</td>\n",
              "      <td>1 days 04:55:00</td>\n",
              "      <td>830003</td>\n",
              "      <td>0.0</td>\n",
              "      <td>0</td>\n",
              "      <td>20.0</td>\n",
              "      <td>NaN</td>\n",
              "      <td>0</td>\n",
              "      <td>1 days 04:55:00</td>\n",
              "      <td>28.916667</td>\n",
              "      <td>1155</td>\n",
              "      <td>4</td>\n",
              "    </tr>\n",
              "    <tr>\n",
              "      <th>2</th>\n",
              "      <td>830003</td>\n",
              "      <td>28034288</td>\n",
              "      <td>3</td>\n",
              "      <td>4</td>\n",
              "      <td>[3, 80, 28, 19, 81, 4]</td>\n",
              "      <td>6</td>\n",
              "      <td>2020-07-25 00:21:00</td>\n",
              "      <td>2020-07-28 05:40:00</td>\n",
              "      <td>3 days 05:19:00</td>\n",
              "      <td>830003</td>\n",
              "      <td>0.0</td>\n",
              "      <td>0</td>\n",
              "      <td>20.0</td>\n",
              "      <td>NaN</td>\n",
              "      <td>0</td>\n",
              "      <td>3 days 05:19:00</td>\n",
              "      <td>77.316667</td>\n",
              "      <td>1155</td>\n",
              "      <td>4</td>\n",
              "    </tr>\n",
              "    <tr>\n",
              "      <th>3</th>\n",
              "      <td>830003</td>\n",
              "      <td>28035723</td>\n",
              "      <td>3</td>\n",
              "      <td>4</td>\n",
              "      <td>[3, 81, 4]</td>\n",
              "      <td>3</td>\n",
              "      <td>2020-07-23 16:57:00</td>\n",
              "      <td>2020-07-25 08:47:00</td>\n",
              "      <td>1 days 15:50:00</td>\n",
              "      <td>830003</td>\n",
              "      <td>0.0</td>\n",
              "      <td>0</td>\n",
              "      <td>20.0</td>\n",
              "      <td>NaN</td>\n",
              "      <td>0</td>\n",
              "      <td>1 days 15:50:00</td>\n",
              "      <td>39.833333</td>\n",
              "      <td>1155</td>\n",
              "      <td>4</td>\n",
              "    </tr>\n",
              "    <tr>\n",
              "      <th>4</th>\n",
              "      <td>830003</td>\n",
              "      <td>29019288</td>\n",
              "      <td>3</td>\n",
              "      <td>4</td>\n",
              "      <td>[3, 18, 4]</td>\n",
              "      <td>3</td>\n",
              "      <td>2020-07-24 20:51:00</td>\n",
              "      <td>2020-07-28 02:00:00</td>\n",
              "      <td>3 days 05:09:00</td>\n",
              "      <td>830003</td>\n",
              "      <td>0.0</td>\n",
              "      <td>0</td>\n",
              "      <td>20.0</td>\n",
              "      <td>NaN</td>\n",
              "      <td>0</td>\n",
              "      <td>3 days 05:09:00</td>\n",
              "      <td>77.150000</td>\n",
              "      <td>1155</td>\n",
              "      <td>4</td>\n",
              "    </tr>\n",
              "    <tr>\n",
              "      <th>...</th>\n",
              "      <td>...</td>\n",
              "      <td>...</td>\n",
              "      <td>...</td>\n",
              "      <td>...</td>\n",
              "      <td>...</td>\n",
              "      <td>...</td>\n",
              "      <td>...</td>\n",
              "      <td>...</td>\n",
              "      <td>...</td>\n",
              "      <td>...</td>\n",
              "      <td>...</td>\n",
              "      <td>...</td>\n",
              "      <td>...</td>\n",
              "      <td>...</td>\n",
              "      <td>...</td>\n",
              "      <td>...</td>\n",
              "      <td>...</td>\n",
              "      <td>...</td>\n",
              "      <td>...</td>\n",
              "    </tr>\n",
              "    <tr>\n",
              "      <th>333668</th>\n",
              "      <td>998100</td>\n",
              "      <td>61320917</td>\n",
              "      <td>3</td>\n",
              "      <td>4</td>\n",
              "      <td>[3, 78, 20, 18, 79, 4]</td>\n",
              "      <td>6</td>\n",
              "      <td>2020-07-07 15:07:00</td>\n",
              "      <td>2020-07-12 01:30:00</td>\n",
              "      <td>4 days 10:23:00</td>\n",
              "      <td>998100</td>\n",
              "      <td>0.0</td>\n",
              "      <td>0</td>\n",
              "      <td>60.0</td>\n",
              "      <td>NaN</td>\n",
              "      <td>0</td>\n",
              "      <td>4 days 10:23:00</td>\n",
              "      <td>106.383333</td>\n",
              "      <td>95</td>\n",
              "      <td>2</td>\n",
              "    </tr>\n",
              "    <tr>\n",
              "      <th>333669</th>\n",
              "      <td>998100</td>\n",
              "      <td>62175377</td>\n",
              "      <td>3</td>\n",
              "      <td>4</td>\n",
              "      <td>[3, 80, 21, 19, 81, 4]</td>\n",
              "      <td>6</td>\n",
              "      <td>2020-07-25 05:24:00</td>\n",
              "      <td>2020-07-29 15:00:00</td>\n",
              "      <td>4 days 09:36:00</td>\n",
              "      <td>998100</td>\n",
              "      <td>0.0</td>\n",
              "      <td>0</td>\n",
              "      <td>60.0</td>\n",
              "      <td>NaN</td>\n",
              "      <td>0</td>\n",
              "      <td>4 days 09:36:00</td>\n",
              "      <td>105.600000</td>\n",
              "      <td>95</td>\n",
              "      <td>2</td>\n",
              "    </tr>\n",
              "    <tr>\n",
              "      <th>333670</th>\n",
              "      <td>998100</td>\n",
              "      <td>63750566</td>\n",
              "      <td>3</td>\n",
              "      <td>4</td>\n",
              "      <td>[3, 80, 21, 19, 81, 4]</td>\n",
              "      <td>6</td>\n",
              "      <td>2020-07-25 05:24:00</td>\n",
              "      <td>2020-07-29 15:00:00</td>\n",
              "      <td>4 days 09:36:00</td>\n",
              "      <td>998100</td>\n",
              "      <td>0.0</td>\n",
              "      <td>0</td>\n",
              "      <td>60.0</td>\n",
              "      <td>NaN</td>\n",
              "      <td>0</td>\n",
              "      <td>4 days 09:36:00</td>\n",
              "      <td>105.600000</td>\n",
              "      <td>95</td>\n",
              "      <td>2</td>\n",
              "    </tr>\n",
              "    <tr>\n",
              "      <th>333671</th>\n",
              "      <td>998100</td>\n",
              "      <td>66288432</td>\n",
              "      <td>3</td>\n",
              "      <td>4</td>\n",
              "      <td>[3, 80, 21, 19, 81, 4]</td>\n",
              "      <td>6</td>\n",
              "      <td>2020-07-25 05:24:00</td>\n",
              "      <td>2020-07-29 15:00:00</td>\n",
              "      <td>4 days 09:36:00</td>\n",
              "      <td>998100</td>\n",
              "      <td>0.0</td>\n",
              "      <td>0</td>\n",
              "      <td>60.0</td>\n",
              "      <td>NaN</td>\n",
              "      <td>0</td>\n",
              "      <td>4 days 09:36:00</td>\n",
              "      <td>105.600000</td>\n",
              "      <td>95</td>\n",
              "      <td>2</td>\n",
              "    </tr>\n",
              "    <tr>\n",
              "      <th>333672</th>\n",
              "      <td>998100</td>\n",
              "      <td>68169127</td>\n",
              "      <td>3</td>\n",
              "      <td>4</td>\n",
              "      <td>[3, 78, 10, 79, 4]</td>\n",
              "      <td>5</td>\n",
              "      <td>2020-07-22 08:20:00</td>\n",
              "      <td>2020-07-25 12:40:00</td>\n",
              "      <td>3 days 04:20:00</td>\n",
              "      <td>998100</td>\n",
              "      <td>0.0</td>\n",
              "      <td>0</td>\n",
              "      <td>60.0</td>\n",
              "      <td>NaN</td>\n",
              "      <td>0</td>\n",
              "      <td>3 days 04:20:00</td>\n",
              "      <td>76.333333</td>\n",
              "      <td>95</td>\n",
              "      <td>2</td>\n",
              "    </tr>\n",
              "  </tbody>\n",
              "</table>\n",
              "<p>333673 rows × 19 columns</p>\n",
              "</div>\n",
              "      <button class=\"colab-df-convert\" onclick=\"convertToInteractive('df-64f255ee-f171-4d33-9c00-8fd2ec55125d')\"\n",
              "              title=\"Convert this dataframe to an interactive table.\"\n",
              "              style=\"display:none;\">\n",
              "        \n",
              "  <svg xmlns=\"http://www.w3.org/2000/svg\" height=\"24px\"viewBox=\"0 0 24 24\"\n",
              "       width=\"24px\">\n",
              "    <path d=\"M0 0h24v24H0V0z\" fill=\"none\"/>\n",
              "    <path d=\"M18.56 5.44l.94 2.06.94-2.06 2.06-.94-2.06-.94-.94-2.06-.94 2.06-2.06.94zm-11 1L8.5 8.5l.94-2.06 2.06-.94-2.06-.94L8.5 2.5l-.94 2.06-2.06.94zm10 10l.94 2.06.94-2.06 2.06-.94-2.06-.94-.94-2.06-.94 2.06-2.06.94z\"/><path d=\"M17.41 7.96l-1.37-1.37c-.4-.4-.92-.59-1.43-.59-.52 0-1.04.2-1.43.59L10.3 9.45l-7.72 7.72c-.78.78-.78 2.05 0 2.83L4 21.41c.39.39.9.59 1.41.59.51 0 1.02-.2 1.41-.59l7.78-7.78 2.81-2.81c.8-.78.8-2.07 0-2.86zM5.41 20L4 18.59l7.72-7.72 1.47 1.35L5.41 20z\"/>\n",
              "  </svg>\n",
              "      </button>\n",
              "      \n",
              "  <style>\n",
              "    .colab-df-container {\n",
              "      display:flex;\n",
              "      flex-wrap:wrap;\n",
              "      gap: 12px;\n",
              "    }\n",
              "\n",
              "    .colab-df-convert {\n",
              "      background-color: #E8F0FE;\n",
              "      border: none;\n",
              "      border-radius: 50%;\n",
              "      cursor: pointer;\n",
              "      display: none;\n",
              "      fill: #1967D2;\n",
              "      height: 32px;\n",
              "      padding: 0 0 0 0;\n",
              "      width: 32px;\n",
              "    }\n",
              "\n",
              "    .colab-df-convert:hover {\n",
              "      background-color: #E2EBFA;\n",
              "      box-shadow: 0px 1px 2px rgba(60, 64, 67, 0.3), 0px 1px 3px 1px rgba(60, 64, 67, 0.15);\n",
              "      fill: #174EA6;\n",
              "    }\n",
              "\n",
              "    [theme=dark] .colab-df-convert {\n",
              "      background-color: #3B4455;\n",
              "      fill: #D2E3FC;\n",
              "    }\n",
              "\n",
              "    [theme=dark] .colab-df-convert:hover {\n",
              "      background-color: #434B5C;\n",
              "      box-shadow: 0px 1px 3px 1px rgba(0, 0, 0, 0.15);\n",
              "      filter: drop-shadow(0px 1px 2px rgba(0, 0, 0, 0.3));\n",
              "      fill: #FFFFFF;\n",
              "    }\n",
              "  </style>\n",
              "\n",
              "      <script>\n",
              "        const buttonEl =\n",
              "          document.querySelector('#df-64f255ee-f171-4d33-9c00-8fd2ec55125d button.colab-df-convert');\n",
              "        buttonEl.style.display =\n",
              "          google.colab.kernel.accessAllowed ? 'block' : 'none';\n",
              "\n",
              "        async function convertToInteractive(key) {\n",
              "          const element = document.querySelector('#df-64f255ee-f171-4d33-9c00-8fd2ec55125d');\n",
              "          const dataTable =\n",
              "            await google.colab.kernel.invokeFunction('convertToInteractive',\n",
              "                                                     [key], {});\n",
              "          if (!dataTable) return;\n",
              "\n",
              "          const docLinkHtml = 'Like what you see? Visit the ' +\n",
              "            '<a target=\"_blank\" href=https://colab.research.google.com/notebooks/data_table.ipynb>data table notebook</a>'\n",
              "            + ' to learn more about interactive tables.';\n",
              "          element.innerHTML = '';\n",
              "          dataTable['output_type'] = 'display_data';\n",
              "          await google.colab.output.renderOutput(dataTable, element);\n",
              "          const docLink = document.createElement('div');\n",
              "          docLink.innerHTML = docLinkHtml;\n",
              "          element.appendChild(docLink);\n",
              "        }\n",
              "      </script>\n",
              "    </div>\n",
              "  </div>\n",
              "  "
            ]
          },
          "metadata": {},
          "execution_count": 7
        }
      ]
    },
    {
      "cell_type": "code",
      "source": [
        "data['st_vag'] = data.apply(lambda row: (row.станция, row.вагон), axis=1)"
      ],
      "metadata": {
        "id": "hM8xJmJyY8pN"
      },
      "execution_count": 8,
      "outputs": []
    },
    {
      "cell_type": "markdown",
      "source": [
        "Так как у нас бинарная классификация, то создаем целевую переменну. \n",
        "\n",
        "    1 - успеет за 36 часов\n",
        "    0 - не успеет за 36 часов"
      ],
      "metadata": {
        "id": "k9GA-fUFj_m-"
      }
    },
    {
      "cell_type": "code",
      "source": [
        "data['присоединение_36ч'] = data['длительность_час'].apply(lambda x: 1 if x <= 36 else 0)"
      ],
      "metadata": {
        "id": "D-y76gYyaC3_"
      },
      "execution_count": 9,
      "outputs": []
    },
    {
      "cell_type": "code",
      "source": [
        "# длитеность в технол. процесса по количеству оперций\n",
        "data['количество_операций'].max()"
      ],
      "metadata": {
        "colab": {
          "base_uri": "https://localhost:8080/"
        },
        "id": "1jYrapPxvjsQ",
        "outputId": "f8177aec-b74c-4de3-ceed-64a05bd3a33f"
      },
      "execution_count": 10,
      "outputs": [
        {
          "output_type": "execute_result",
          "data": {
            "text/plain": [
              "127"
            ]
          },
          "metadata": {},
          "execution_count": 10
        }
      ]
    },
    {
      "cell_type": "markdown",
      "source": [
        "Максимальное количество операций 127, но при анализе мы выяснили, что технологический процесс до 36 укладывается в 12 операций. Поэтому целесообразно взять чуть больше, например 20."
      ],
      "metadata": {
        "id": "hMTEOEz7xDNs"
      }
    },
    {
      "cell_type": "code",
      "source": [
        "oper = data['все_операции'].values\n",
        "i =  20  # Количество признаков - операций\n",
        "for el in range(oper.shape[0]):\n",
        "    x = oper[el].replace('[','').replace(']','').split(',')\n",
        "    x = [int(j) for j in x]\n",
        "    if len(x) >= i:\n",
        "        oper[el] = np.array(x[:i])\n",
        "    else:\n",
        "        k0 = i - len(x)\n",
        "        x=x+[0]*k0 \n",
        "        oper[el] = np.array(x[:i])"
      ],
      "metadata": {
        "id": "m6hrrb-yvR2m"
      },
      "execution_count": 11,
      "outputs": []
    },
    {
      "cell_type": "code",
      "source": [
        "proc = {}\n",
        "col = ['опер.№_'+str(i) for i in range(20)]\n",
        "for el in range(len(col)):\n",
        "    proc[col[el]] = [oper[i][el] for i in range(oper.shape[0])]\n"
      ],
      "metadata": {
        "id": "oXplOXTF0TwC"
      },
      "execution_count": 12,
      "outputs": []
    },
    {
      "cell_type": "code",
      "source": [
        "# Датасет технологических операции\n",
        "df_tex_proc = pd.DataFrame(proc)"
      ],
      "metadata": {
        "id": "rwp82ObK8SdZ"
      },
      "execution_count": 13,
      "outputs": []
    },
    {
      "cell_type": "code",
      "source": [
        "# Сформируем из ДатаСета выборку признаков\n",
        "data_tr = data[['st_vag', 'ранг_станции', 'изм_станции', 'количество_операций', 'ст_опер_кол_ваг' ,'присоединение_36ч']].copy()"
      ],
      "metadata": {
        "id": "GCTQWpnLuKXI"
      },
      "execution_count": 14,
      "outputs": []
    },
    {
      "cell_type": "code",
      "source": [
        "# Сконкотенируем два ДатаСета\n",
        "data_tr = pd.concat([data_tr, df_tex_proc], axis=1)"
      ],
      "metadata": {
        "id": "c_xKoamGum9q"
      },
      "execution_count": 15,
      "outputs": []
    },
    {
      "cell_type": "code",
      "source": [
        "# Получили готовый для обучения датасет\n",
        "data_tr"
      ],
      "metadata": {
        "colab": {
          "base_uri": "https://localhost:8080/",
          "height": 659
        },
        "id": "c-_V8lya1krN",
        "outputId": "2cbb923c-378e-418e-dc1c-e0a7edd73ec3"
      },
      "execution_count": 16,
      "outputs": [
        {
          "output_type": "execute_result",
          "data": {
            "text/plain": [
              "                    st_vag  ранг_станции  изм_станции  количество_операций  \\\n",
              "0       (830003, 24579856)             4            0                    8   \n",
              "1       (830003, 24622276)             4            0                    6   \n",
              "2       (830003, 28034288)             4            0                    6   \n",
              "3       (830003, 28035723)             4            0                    3   \n",
              "4       (830003, 29019288)             4            0                    3   \n",
              "...                    ...           ...          ...                  ...   \n",
              "333668  (998100, 61320917)             2            0                    6   \n",
              "333669  (998100, 62175377)             2            0                    6   \n",
              "333670  (998100, 63750566)             2            0                    6   \n",
              "333671  (998100, 66288432)             2            0                    6   \n",
              "333672  (998100, 68169127)             2            0                    5   \n",
              "\n",
              "        ст_опер_кол_ваг  присоединение_36ч  опер.№_0  опер.№_1  опер.№_2  \\\n",
              "0                  1155                  0         3        80        19   \n",
              "1                  1155                  1         3        80        28   \n",
              "2                  1155                  0         3        80        28   \n",
              "3                  1155                  0         3        81         4   \n",
              "4                  1155                  0         3        18         4   \n",
              "...                 ...                ...       ...       ...       ...   \n",
              "333668               95                  0         3        78        20   \n",
              "333669               95                  0         3        80        21   \n",
              "333670               95                  0         3        80        21   \n",
              "333671               95                  0         3        80        21   \n",
              "333672               95                  0         3        78        10   \n",
              "\n",
              "        опер.№_3  ...  опер.№_10  опер.№_11  опер.№_12  опер.№_13  опер.№_14  \\\n",
              "0             81  ...          0          0          0          0          0   \n",
              "1             19  ...          0          0          0          0          0   \n",
              "2             19  ...          0          0          0          0          0   \n",
              "3              0  ...          0          0          0          0          0   \n",
              "4              0  ...          0          0          0          0          0   \n",
              "...          ...  ...        ...        ...        ...        ...        ...   \n",
              "333668        18  ...          0          0          0          0          0   \n",
              "333669        19  ...          0          0          0          0          0   \n",
              "333670        19  ...          0          0          0          0          0   \n",
              "333671        19  ...          0          0          0          0          0   \n",
              "333672        79  ...          0          0          0          0          0   \n",
              "\n",
              "        опер.№_15  опер.№_16  опер.№_17  опер.№_18  опер.№_19  \n",
              "0               0          0          0          0          0  \n",
              "1               0          0          0          0          0  \n",
              "2               0          0          0          0          0  \n",
              "3               0          0          0          0          0  \n",
              "4               0          0          0          0          0  \n",
              "...           ...        ...        ...        ...        ...  \n",
              "333668          0          0          0          0          0  \n",
              "333669          0          0          0          0          0  \n",
              "333670          0          0          0          0          0  \n",
              "333671          0          0          0          0          0  \n",
              "333672          0          0          0          0          0  \n",
              "\n",
              "[333673 rows x 26 columns]"
            ],
            "text/html": [
              "\n",
              "  <div id=\"df-aa46b7fa-6575-4489-830e-8552ee836227\">\n",
              "    <div class=\"colab-df-container\">\n",
              "      <div>\n",
              "<style scoped>\n",
              "    .dataframe tbody tr th:only-of-type {\n",
              "        vertical-align: middle;\n",
              "    }\n",
              "\n",
              "    .dataframe tbody tr th {\n",
              "        vertical-align: top;\n",
              "    }\n",
              "\n",
              "    .dataframe thead th {\n",
              "        text-align: right;\n",
              "    }\n",
              "</style>\n",
              "<table border=\"1\" class=\"dataframe\">\n",
              "  <thead>\n",
              "    <tr style=\"text-align: right;\">\n",
              "      <th></th>\n",
              "      <th>st_vag</th>\n",
              "      <th>ранг_станции</th>\n",
              "      <th>изм_станции</th>\n",
              "      <th>количество_операций</th>\n",
              "      <th>ст_опер_кол_ваг</th>\n",
              "      <th>присоединение_36ч</th>\n",
              "      <th>опер.№_0</th>\n",
              "      <th>опер.№_1</th>\n",
              "      <th>опер.№_2</th>\n",
              "      <th>опер.№_3</th>\n",
              "      <th>...</th>\n",
              "      <th>опер.№_10</th>\n",
              "      <th>опер.№_11</th>\n",
              "      <th>опер.№_12</th>\n",
              "      <th>опер.№_13</th>\n",
              "      <th>опер.№_14</th>\n",
              "      <th>опер.№_15</th>\n",
              "      <th>опер.№_16</th>\n",
              "      <th>опер.№_17</th>\n",
              "      <th>опер.№_18</th>\n",
              "      <th>опер.№_19</th>\n",
              "    </tr>\n",
              "  </thead>\n",
              "  <tbody>\n",
              "    <tr>\n",
              "      <th>0</th>\n",
              "      <td>(830003, 24579856)</td>\n",
              "      <td>4</td>\n",
              "      <td>0</td>\n",
              "      <td>8</td>\n",
              "      <td>1155</td>\n",
              "      <td>0</td>\n",
              "      <td>3</td>\n",
              "      <td>80</td>\n",
              "      <td>19</td>\n",
              "      <td>81</td>\n",
              "      <td>...</td>\n",
              "      <td>0</td>\n",
              "      <td>0</td>\n",
              "      <td>0</td>\n",
              "      <td>0</td>\n",
              "      <td>0</td>\n",
              "      <td>0</td>\n",
              "      <td>0</td>\n",
              "      <td>0</td>\n",
              "      <td>0</td>\n",
              "      <td>0</td>\n",
              "    </tr>\n",
              "    <tr>\n",
              "      <th>1</th>\n",
              "      <td>(830003, 24622276)</td>\n",
              "      <td>4</td>\n",
              "      <td>0</td>\n",
              "      <td>6</td>\n",
              "      <td>1155</td>\n",
              "      <td>1</td>\n",
              "      <td>3</td>\n",
              "      <td>80</td>\n",
              "      <td>28</td>\n",
              "      <td>19</td>\n",
              "      <td>...</td>\n",
              "      <td>0</td>\n",
              "      <td>0</td>\n",
              "      <td>0</td>\n",
              "      <td>0</td>\n",
              "      <td>0</td>\n",
              "      <td>0</td>\n",
              "      <td>0</td>\n",
              "      <td>0</td>\n",
              "      <td>0</td>\n",
              "      <td>0</td>\n",
              "    </tr>\n",
              "    <tr>\n",
              "      <th>2</th>\n",
              "      <td>(830003, 28034288)</td>\n",
              "      <td>4</td>\n",
              "      <td>0</td>\n",
              "      <td>6</td>\n",
              "      <td>1155</td>\n",
              "      <td>0</td>\n",
              "      <td>3</td>\n",
              "      <td>80</td>\n",
              "      <td>28</td>\n",
              "      <td>19</td>\n",
              "      <td>...</td>\n",
              "      <td>0</td>\n",
              "      <td>0</td>\n",
              "      <td>0</td>\n",
              "      <td>0</td>\n",
              "      <td>0</td>\n",
              "      <td>0</td>\n",
              "      <td>0</td>\n",
              "      <td>0</td>\n",
              "      <td>0</td>\n",
              "      <td>0</td>\n",
              "    </tr>\n",
              "    <tr>\n",
              "      <th>3</th>\n",
              "      <td>(830003, 28035723)</td>\n",
              "      <td>4</td>\n",
              "      <td>0</td>\n",
              "      <td>3</td>\n",
              "      <td>1155</td>\n",
              "      <td>0</td>\n",
              "      <td>3</td>\n",
              "      <td>81</td>\n",
              "      <td>4</td>\n",
              "      <td>0</td>\n",
              "      <td>...</td>\n",
              "      <td>0</td>\n",
              "      <td>0</td>\n",
              "      <td>0</td>\n",
              "      <td>0</td>\n",
              "      <td>0</td>\n",
              "      <td>0</td>\n",
              "      <td>0</td>\n",
              "      <td>0</td>\n",
              "      <td>0</td>\n",
              "      <td>0</td>\n",
              "    </tr>\n",
              "    <tr>\n",
              "      <th>4</th>\n",
              "      <td>(830003, 29019288)</td>\n",
              "      <td>4</td>\n",
              "      <td>0</td>\n",
              "      <td>3</td>\n",
              "      <td>1155</td>\n",
              "      <td>0</td>\n",
              "      <td>3</td>\n",
              "      <td>18</td>\n",
              "      <td>4</td>\n",
              "      <td>0</td>\n",
              "      <td>...</td>\n",
              "      <td>0</td>\n",
              "      <td>0</td>\n",
              "      <td>0</td>\n",
              "      <td>0</td>\n",
              "      <td>0</td>\n",
              "      <td>0</td>\n",
              "      <td>0</td>\n",
              "      <td>0</td>\n",
              "      <td>0</td>\n",
              "      <td>0</td>\n",
              "    </tr>\n",
              "    <tr>\n",
              "      <th>...</th>\n",
              "      <td>...</td>\n",
              "      <td>...</td>\n",
              "      <td>...</td>\n",
              "      <td>...</td>\n",
              "      <td>...</td>\n",
              "      <td>...</td>\n",
              "      <td>...</td>\n",
              "      <td>...</td>\n",
              "      <td>...</td>\n",
              "      <td>...</td>\n",
              "      <td>...</td>\n",
              "      <td>...</td>\n",
              "      <td>...</td>\n",
              "      <td>...</td>\n",
              "      <td>...</td>\n",
              "      <td>...</td>\n",
              "      <td>...</td>\n",
              "      <td>...</td>\n",
              "      <td>...</td>\n",
              "      <td>...</td>\n",
              "      <td>...</td>\n",
              "    </tr>\n",
              "    <tr>\n",
              "      <th>333668</th>\n",
              "      <td>(998100, 61320917)</td>\n",
              "      <td>2</td>\n",
              "      <td>0</td>\n",
              "      <td>6</td>\n",
              "      <td>95</td>\n",
              "      <td>0</td>\n",
              "      <td>3</td>\n",
              "      <td>78</td>\n",
              "      <td>20</td>\n",
              "      <td>18</td>\n",
              "      <td>...</td>\n",
              "      <td>0</td>\n",
              "      <td>0</td>\n",
              "      <td>0</td>\n",
              "      <td>0</td>\n",
              "      <td>0</td>\n",
              "      <td>0</td>\n",
              "      <td>0</td>\n",
              "      <td>0</td>\n",
              "      <td>0</td>\n",
              "      <td>0</td>\n",
              "    </tr>\n",
              "    <tr>\n",
              "      <th>333669</th>\n",
              "      <td>(998100, 62175377)</td>\n",
              "      <td>2</td>\n",
              "      <td>0</td>\n",
              "      <td>6</td>\n",
              "      <td>95</td>\n",
              "      <td>0</td>\n",
              "      <td>3</td>\n",
              "      <td>80</td>\n",
              "      <td>21</td>\n",
              "      <td>19</td>\n",
              "      <td>...</td>\n",
              "      <td>0</td>\n",
              "      <td>0</td>\n",
              "      <td>0</td>\n",
              "      <td>0</td>\n",
              "      <td>0</td>\n",
              "      <td>0</td>\n",
              "      <td>0</td>\n",
              "      <td>0</td>\n",
              "      <td>0</td>\n",
              "      <td>0</td>\n",
              "    </tr>\n",
              "    <tr>\n",
              "      <th>333670</th>\n",
              "      <td>(998100, 63750566)</td>\n",
              "      <td>2</td>\n",
              "      <td>0</td>\n",
              "      <td>6</td>\n",
              "      <td>95</td>\n",
              "      <td>0</td>\n",
              "      <td>3</td>\n",
              "      <td>80</td>\n",
              "      <td>21</td>\n",
              "      <td>19</td>\n",
              "      <td>...</td>\n",
              "      <td>0</td>\n",
              "      <td>0</td>\n",
              "      <td>0</td>\n",
              "      <td>0</td>\n",
              "      <td>0</td>\n",
              "      <td>0</td>\n",
              "      <td>0</td>\n",
              "      <td>0</td>\n",
              "      <td>0</td>\n",
              "      <td>0</td>\n",
              "    </tr>\n",
              "    <tr>\n",
              "      <th>333671</th>\n",
              "      <td>(998100, 66288432)</td>\n",
              "      <td>2</td>\n",
              "      <td>0</td>\n",
              "      <td>6</td>\n",
              "      <td>95</td>\n",
              "      <td>0</td>\n",
              "      <td>3</td>\n",
              "      <td>80</td>\n",
              "      <td>21</td>\n",
              "      <td>19</td>\n",
              "      <td>...</td>\n",
              "      <td>0</td>\n",
              "      <td>0</td>\n",
              "      <td>0</td>\n",
              "      <td>0</td>\n",
              "      <td>0</td>\n",
              "      <td>0</td>\n",
              "      <td>0</td>\n",
              "      <td>0</td>\n",
              "      <td>0</td>\n",
              "      <td>0</td>\n",
              "    </tr>\n",
              "    <tr>\n",
              "      <th>333672</th>\n",
              "      <td>(998100, 68169127)</td>\n",
              "      <td>2</td>\n",
              "      <td>0</td>\n",
              "      <td>5</td>\n",
              "      <td>95</td>\n",
              "      <td>0</td>\n",
              "      <td>3</td>\n",
              "      <td>78</td>\n",
              "      <td>10</td>\n",
              "      <td>79</td>\n",
              "      <td>...</td>\n",
              "      <td>0</td>\n",
              "      <td>0</td>\n",
              "      <td>0</td>\n",
              "      <td>0</td>\n",
              "      <td>0</td>\n",
              "      <td>0</td>\n",
              "      <td>0</td>\n",
              "      <td>0</td>\n",
              "      <td>0</td>\n",
              "      <td>0</td>\n",
              "    </tr>\n",
              "  </tbody>\n",
              "</table>\n",
              "<p>333673 rows × 26 columns</p>\n",
              "</div>\n",
              "      <button class=\"colab-df-convert\" onclick=\"convertToInteractive('df-aa46b7fa-6575-4489-830e-8552ee836227')\"\n",
              "              title=\"Convert this dataframe to an interactive table.\"\n",
              "              style=\"display:none;\">\n",
              "        \n",
              "  <svg xmlns=\"http://www.w3.org/2000/svg\" height=\"24px\"viewBox=\"0 0 24 24\"\n",
              "       width=\"24px\">\n",
              "    <path d=\"M0 0h24v24H0V0z\" fill=\"none\"/>\n",
              "    <path d=\"M18.56 5.44l.94 2.06.94-2.06 2.06-.94-2.06-.94-.94-2.06-.94 2.06-2.06.94zm-11 1L8.5 8.5l.94-2.06 2.06-.94-2.06-.94L8.5 2.5l-.94 2.06-2.06.94zm10 10l.94 2.06.94-2.06 2.06-.94-2.06-.94-.94-2.06-.94 2.06-2.06.94z\"/><path d=\"M17.41 7.96l-1.37-1.37c-.4-.4-.92-.59-1.43-.59-.52 0-1.04.2-1.43.59L10.3 9.45l-7.72 7.72c-.78.78-.78 2.05 0 2.83L4 21.41c.39.39.9.59 1.41.59.51 0 1.02-.2 1.41-.59l7.78-7.78 2.81-2.81c.8-.78.8-2.07 0-2.86zM5.41 20L4 18.59l7.72-7.72 1.47 1.35L5.41 20z\"/>\n",
              "  </svg>\n",
              "      </button>\n",
              "      \n",
              "  <style>\n",
              "    .colab-df-container {\n",
              "      display:flex;\n",
              "      flex-wrap:wrap;\n",
              "      gap: 12px;\n",
              "    }\n",
              "\n",
              "    .colab-df-convert {\n",
              "      background-color: #E8F0FE;\n",
              "      border: none;\n",
              "      border-radius: 50%;\n",
              "      cursor: pointer;\n",
              "      display: none;\n",
              "      fill: #1967D2;\n",
              "      height: 32px;\n",
              "      padding: 0 0 0 0;\n",
              "      width: 32px;\n",
              "    }\n",
              "\n",
              "    .colab-df-convert:hover {\n",
              "      background-color: #E2EBFA;\n",
              "      box-shadow: 0px 1px 2px rgba(60, 64, 67, 0.3), 0px 1px 3px 1px rgba(60, 64, 67, 0.15);\n",
              "      fill: #174EA6;\n",
              "    }\n",
              "\n",
              "    [theme=dark] .colab-df-convert {\n",
              "      background-color: #3B4455;\n",
              "      fill: #D2E3FC;\n",
              "    }\n",
              "\n",
              "    [theme=dark] .colab-df-convert:hover {\n",
              "      background-color: #434B5C;\n",
              "      box-shadow: 0px 1px 3px 1px rgba(0, 0, 0, 0.15);\n",
              "      filter: drop-shadow(0px 1px 2px rgba(0, 0, 0, 0.3));\n",
              "      fill: #FFFFFF;\n",
              "    }\n",
              "  </style>\n",
              "\n",
              "      <script>\n",
              "        const buttonEl =\n",
              "          document.querySelector('#df-aa46b7fa-6575-4489-830e-8552ee836227 button.colab-df-convert');\n",
              "        buttonEl.style.display =\n",
              "          google.colab.kernel.accessAllowed ? 'block' : 'none';\n",
              "\n",
              "        async function convertToInteractive(key) {\n",
              "          const element = document.querySelector('#df-aa46b7fa-6575-4489-830e-8552ee836227');\n",
              "          const dataTable =\n",
              "            await google.colab.kernel.invokeFunction('convertToInteractive',\n",
              "                                                     [key], {});\n",
              "          if (!dataTable) return;\n",
              "\n",
              "          const docLinkHtml = 'Like what you see? Visit the ' +\n",
              "            '<a target=\"_blank\" href=https://colab.research.google.com/notebooks/data_table.ipynb>data table notebook</a>'\n",
              "            + ' to learn more about interactive tables.';\n",
              "          element.innerHTML = '';\n",
              "          dataTable['output_type'] = 'display_data';\n",
              "          await google.colab.output.renderOutput(dataTable, element);\n",
              "          const docLink = document.createElement('div');\n",
              "          docLink.innerHTML = docLinkHtml;\n",
              "          element.appendChild(docLink);\n",
              "        }\n",
              "      </script>\n",
              "    </div>\n",
              "  </div>\n",
              "  "
            ]
          },
          "metadata": {},
          "execution_count": 16
        }
      ]
    },
    {
      "cell_type": "code",
      "source": [
        "# Распределение по классам неравномерное. Учтем при разбиении на тренировочную и тестовую выборки\n",
        "data_tr['присоединение_36ч'].value_counts(normalize=True)"
      ],
      "metadata": {
        "id": "xm-lWki9CQFe",
        "colab": {
          "base_uri": "https://localhost:8080/"
        },
        "outputId": "9427939c-1338-4f6d-e1dc-84ab6b3dae4e"
      },
      "execution_count": 17,
      "outputs": [
        {
          "output_type": "execute_result",
          "data": {
            "text/plain": [
              "0    0.703407\n",
              "1    0.296593\n",
              "Name: присоединение_36ч, dtype: float64"
            ]
          },
          "metadata": {},
          "execution_count": 17
        }
      ]
    },
    {
      "cell_type": "code",
      "source": [
        "data_tr[data_tr['присоединение_36ч'] == 1].sample(20)"
      ],
      "metadata": {
        "colab": {
          "base_uri": "https://localhost:8080/",
          "height": 1000
        },
        "id": "4-0DYv_BgmUX",
        "outputId": "a4f6364c-a0f3-4e8c-ed07-07764e062b5b"
      },
      "execution_count": 18,
      "outputs": [
        {
          "output_type": "execute_result",
          "data": {
            "text/plain": [
              "                    st_vag  ранг_станции  изм_станции  количество_операций  \\\n",
              "329138  (987708, 65174211)             5            1                    5   \n",
              "32834   (862108, 62544168)             6            0                    3   \n",
              "56987   (864207, 54180658)             6            0                    6   \n",
              "227885  (967600, 58584012)             6            1                    7   \n",
              "294460  (985906, 52803772)             6            1                    5   \n",
              "288243  (985609, 56142938)             6            1                    5   \n",
              "287809  (985609, 55651319)             6            1                    5   \n",
              "45141   (863007, 57900342)             6            0                    4   \n",
              "309843  (985906, 62697073)             6            1                    5   \n",
              "72846   (870405, 43824770)             4            0                    5   \n",
              "253021  (972505, 68047513)             3            0                    5   \n",
              "236923  (967600, 63706857)             6            1                    7   \n",
              "315417  (985906, 63861504)             6            1                    5   \n",
              "48973   (863100, 52208824)             5            0                    4   \n",
              "332926  (989205, 92653039)             5            0                    3   \n",
              "241149  (967600, 68230929)             6            1                    5   \n",
              "322785  (985906, 94443009)             6            0                    6   \n",
              "296369  (985906, 54121710)             6            1                    5   \n",
              "325006  (987708, 52871118)             5            1                    5   \n",
              "300840  (985906, 59072157)             6            1                    5   \n",
              "\n",
              "        ст_опер_кол_ваг  присоединение_36ч  опер.№_0  опер.№_1  опер.№_2  \\\n",
              "329138             6902                  1         3        80        21   \n",
              "32834             11500                  1         3        18         4   \n",
              "56987             13178                  1         3        80        21   \n",
              "227885            27130                  1         3        80        21   \n",
              "294460            43702                  1         3        80        21   \n",
              "288243            12785                  1         3        80        21   \n",
              "287809            12785                  1         3        80        21   \n",
              "45141             26287                  1         3        80        10   \n",
              "309843            43702                  1         3        80        21   \n",
              "72846              1763                  1         3        80        21   \n",
              "253021              512                  1         3        80        21   \n",
              "236923            27130                  1         3        80        21   \n",
              "315417            43702                  1         3        80        21   \n",
              "48973              5178                  1         3        80        10   \n",
              "332926             9277                  1         3        18         4   \n",
              "241149            27130                  1         3        80        21   \n",
              "322785            43702                  1         3        80        20   \n",
              "296369            43702                  1         3        80        21   \n",
              "325006             6902                  1         3        80        21   \n",
              "300840            43702                  1         3        80        21   \n",
              "\n",
              "        опер.№_3  ...  опер.№_10  опер.№_11  опер.№_12  опер.№_13  опер.№_14  \\\n",
              "329138        81  ...          0          0          0          0          0   \n",
              "32834          0  ...          0          0          0          0          0   \n",
              "56987         19  ...          0          0          0          0          0   \n",
              "227885        81  ...          0          0          0          0          0   \n",
              "294460        81  ...          0          0          0          0          0   \n",
              "288243        81  ...          0          0          0          0          0   \n",
              "287809        81  ...          0          0          0          0          0   \n",
              "45141          4  ...          0          0          0          0          0   \n",
              "309843        81  ...          0          0          0          0          0   \n",
              "72846         18  ...          0          0          0          0          0   \n",
              "253021        18  ...          0          0          0          0          0   \n",
              "236923        81  ...          0          0          0          0          0   \n",
              "315417        81  ...          0          0          0          0          0   \n",
              "48973          4  ...          0          0          0          0          0   \n",
              "332926         0  ...          0          0          0          0          0   \n",
              "241149        81  ...          0          0          0          0          0   \n",
              "322785        80  ...          0          0          0          0          0   \n",
              "296369        81  ...          0          0          0          0          0   \n",
              "325006        81  ...          0          0          0          0          0   \n",
              "300840        81  ...          0          0          0          0          0   \n",
              "\n",
              "        опер.№_15  опер.№_16  опер.№_17  опер.№_18  опер.№_19  \n",
              "329138          0          0          0          0          0  \n",
              "32834           0          0          0          0          0  \n",
              "56987           0          0          0          0          0  \n",
              "227885          0          0          0          0          0  \n",
              "294460          0          0          0          0          0  \n",
              "288243          0          0          0          0          0  \n",
              "287809          0          0          0          0          0  \n",
              "45141           0          0          0          0          0  \n",
              "309843          0          0          0          0          0  \n",
              "72846           0          0          0          0          0  \n",
              "253021          0          0          0          0          0  \n",
              "236923          0          0          0          0          0  \n",
              "315417          0          0          0          0          0  \n",
              "48973           0          0          0          0          0  \n",
              "332926          0          0          0          0          0  \n",
              "241149          0          0          0          0          0  \n",
              "322785          0          0          0          0          0  \n",
              "296369          0          0          0          0          0  \n",
              "325006          0          0          0          0          0  \n",
              "300840          0          0          0          0          0  \n",
              "\n",
              "[20 rows x 26 columns]"
            ],
            "text/html": [
              "\n",
              "  <div id=\"df-4ac94381-00fe-45e7-89b8-fb5da4afefaa\">\n",
              "    <div class=\"colab-df-container\">\n",
              "      <div>\n",
              "<style scoped>\n",
              "    .dataframe tbody tr th:only-of-type {\n",
              "        vertical-align: middle;\n",
              "    }\n",
              "\n",
              "    .dataframe tbody tr th {\n",
              "        vertical-align: top;\n",
              "    }\n",
              "\n",
              "    .dataframe thead th {\n",
              "        text-align: right;\n",
              "    }\n",
              "</style>\n",
              "<table border=\"1\" class=\"dataframe\">\n",
              "  <thead>\n",
              "    <tr style=\"text-align: right;\">\n",
              "      <th></th>\n",
              "      <th>st_vag</th>\n",
              "      <th>ранг_станции</th>\n",
              "      <th>изм_станции</th>\n",
              "      <th>количество_операций</th>\n",
              "      <th>ст_опер_кол_ваг</th>\n",
              "      <th>присоединение_36ч</th>\n",
              "      <th>опер.№_0</th>\n",
              "      <th>опер.№_1</th>\n",
              "      <th>опер.№_2</th>\n",
              "      <th>опер.№_3</th>\n",
              "      <th>...</th>\n",
              "      <th>опер.№_10</th>\n",
              "      <th>опер.№_11</th>\n",
              "      <th>опер.№_12</th>\n",
              "      <th>опер.№_13</th>\n",
              "      <th>опер.№_14</th>\n",
              "      <th>опер.№_15</th>\n",
              "      <th>опер.№_16</th>\n",
              "      <th>опер.№_17</th>\n",
              "      <th>опер.№_18</th>\n",
              "      <th>опер.№_19</th>\n",
              "    </tr>\n",
              "  </thead>\n",
              "  <tbody>\n",
              "    <tr>\n",
              "      <th>329138</th>\n",
              "      <td>(987708, 65174211)</td>\n",
              "      <td>5</td>\n",
              "      <td>1</td>\n",
              "      <td>5</td>\n",
              "      <td>6902</td>\n",
              "      <td>1</td>\n",
              "      <td>3</td>\n",
              "      <td>80</td>\n",
              "      <td>21</td>\n",
              "      <td>81</td>\n",
              "      <td>...</td>\n",
              "      <td>0</td>\n",
              "      <td>0</td>\n",
              "      <td>0</td>\n",
              "      <td>0</td>\n",
              "      <td>0</td>\n",
              "      <td>0</td>\n",
              "      <td>0</td>\n",
              "      <td>0</td>\n",
              "      <td>0</td>\n",
              "      <td>0</td>\n",
              "    </tr>\n",
              "    <tr>\n",
              "      <th>32834</th>\n",
              "      <td>(862108, 62544168)</td>\n",
              "      <td>6</td>\n",
              "      <td>0</td>\n",
              "      <td>3</td>\n",
              "      <td>11500</td>\n",
              "      <td>1</td>\n",
              "      <td>3</td>\n",
              "      <td>18</td>\n",
              "      <td>4</td>\n",
              "      <td>0</td>\n",
              "      <td>...</td>\n",
              "      <td>0</td>\n",
              "      <td>0</td>\n",
              "      <td>0</td>\n",
              "      <td>0</td>\n",
              "      <td>0</td>\n",
              "      <td>0</td>\n",
              "      <td>0</td>\n",
              "      <td>0</td>\n",
              "      <td>0</td>\n",
              "      <td>0</td>\n",
              "    </tr>\n",
              "    <tr>\n",
              "      <th>56987</th>\n",
              "      <td>(864207, 54180658)</td>\n",
              "      <td>6</td>\n",
              "      <td>0</td>\n",
              "      <td>6</td>\n",
              "      <td>13178</td>\n",
              "      <td>1</td>\n",
              "      <td>3</td>\n",
              "      <td>80</td>\n",
              "      <td>21</td>\n",
              "      <td>19</td>\n",
              "      <td>...</td>\n",
              "      <td>0</td>\n",
              "      <td>0</td>\n",
              "      <td>0</td>\n",
              "      <td>0</td>\n",
              "      <td>0</td>\n",
              "      <td>0</td>\n",
              "      <td>0</td>\n",
              "      <td>0</td>\n",
              "      <td>0</td>\n",
              "      <td>0</td>\n",
              "    </tr>\n",
              "    <tr>\n",
              "      <th>227885</th>\n",
              "      <td>(967600, 58584012)</td>\n",
              "      <td>6</td>\n",
              "      <td>1</td>\n",
              "      <td>7</td>\n",
              "      <td>27130</td>\n",
              "      <td>1</td>\n",
              "      <td>3</td>\n",
              "      <td>80</td>\n",
              "      <td>21</td>\n",
              "      <td>81</td>\n",
              "      <td>...</td>\n",
              "      <td>0</td>\n",
              "      <td>0</td>\n",
              "      <td>0</td>\n",
              "      <td>0</td>\n",
              "      <td>0</td>\n",
              "      <td>0</td>\n",
              "      <td>0</td>\n",
              "      <td>0</td>\n",
              "      <td>0</td>\n",
              "      <td>0</td>\n",
              "    </tr>\n",
              "    <tr>\n",
              "      <th>294460</th>\n",
              "      <td>(985906, 52803772)</td>\n",
              "      <td>6</td>\n",
              "      <td>1</td>\n",
              "      <td>5</td>\n",
              "      <td>43702</td>\n",
              "      <td>1</td>\n",
              "      <td>3</td>\n",
              "      <td>80</td>\n",
              "      <td>21</td>\n",
              "      <td>81</td>\n",
              "      <td>...</td>\n",
              "      <td>0</td>\n",
              "      <td>0</td>\n",
              "      <td>0</td>\n",
              "      <td>0</td>\n",
              "      <td>0</td>\n",
              "      <td>0</td>\n",
              "      <td>0</td>\n",
              "      <td>0</td>\n",
              "      <td>0</td>\n",
              "      <td>0</td>\n",
              "    </tr>\n",
              "    <tr>\n",
              "      <th>288243</th>\n",
              "      <td>(985609, 56142938)</td>\n",
              "      <td>6</td>\n",
              "      <td>1</td>\n",
              "      <td>5</td>\n",
              "      <td>12785</td>\n",
              "      <td>1</td>\n",
              "      <td>3</td>\n",
              "      <td>80</td>\n",
              "      <td>21</td>\n",
              "      <td>81</td>\n",
              "      <td>...</td>\n",
              "      <td>0</td>\n",
              "      <td>0</td>\n",
              "      <td>0</td>\n",
              "      <td>0</td>\n",
              "      <td>0</td>\n",
              "      <td>0</td>\n",
              "      <td>0</td>\n",
              "      <td>0</td>\n",
              "      <td>0</td>\n",
              "      <td>0</td>\n",
              "    </tr>\n",
              "    <tr>\n",
              "      <th>287809</th>\n",
              "      <td>(985609, 55651319)</td>\n",
              "      <td>6</td>\n",
              "      <td>1</td>\n",
              "      <td>5</td>\n",
              "      <td>12785</td>\n",
              "      <td>1</td>\n",
              "      <td>3</td>\n",
              "      <td>80</td>\n",
              "      <td>21</td>\n",
              "      <td>81</td>\n",
              "      <td>...</td>\n",
              "      <td>0</td>\n",
              "      <td>0</td>\n",
              "      <td>0</td>\n",
              "      <td>0</td>\n",
              "      <td>0</td>\n",
              "      <td>0</td>\n",
              "      <td>0</td>\n",
              "      <td>0</td>\n",
              "      <td>0</td>\n",
              "      <td>0</td>\n",
              "    </tr>\n",
              "    <tr>\n",
              "      <th>45141</th>\n",
              "      <td>(863007, 57900342)</td>\n",
              "      <td>6</td>\n",
              "      <td>0</td>\n",
              "      <td>4</td>\n",
              "      <td>26287</td>\n",
              "      <td>1</td>\n",
              "      <td>3</td>\n",
              "      <td>80</td>\n",
              "      <td>10</td>\n",
              "      <td>4</td>\n",
              "      <td>...</td>\n",
              "      <td>0</td>\n",
              "      <td>0</td>\n",
              "      <td>0</td>\n",
              "      <td>0</td>\n",
              "      <td>0</td>\n",
              "      <td>0</td>\n",
              "      <td>0</td>\n",
              "      <td>0</td>\n",
              "      <td>0</td>\n",
              "      <td>0</td>\n",
              "    </tr>\n",
              "    <tr>\n",
              "      <th>309843</th>\n",
              "      <td>(985906, 62697073)</td>\n",
              "      <td>6</td>\n",
              "      <td>1</td>\n",
              "      <td>5</td>\n",
              "      <td>43702</td>\n",
              "      <td>1</td>\n",
              "      <td>3</td>\n",
              "      <td>80</td>\n",
              "      <td>21</td>\n",
              "      <td>81</td>\n",
              "      <td>...</td>\n",
              "      <td>0</td>\n",
              "      <td>0</td>\n",
              "      <td>0</td>\n",
              "      <td>0</td>\n",
              "      <td>0</td>\n",
              "      <td>0</td>\n",
              "      <td>0</td>\n",
              "      <td>0</td>\n",
              "      <td>0</td>\n",
              "      <td>0</td>\n",
              "    </tr>\n",
              "    <tr>\n",
              "      <th>72846</th>\n",
              "      <td>(870405, 43824770)</td>\n",
              "      <td>4</td>\n",
              "      <td>0</td>\n",
              "      <td>5</td>\n",
              "      <td>1763</td>\n",
              "      <td>1</td>\n",
              "      <td>3</td>\n",
              "      <td>80</td>\n",
              "      <td>21</td>\n",
              "      <td>18</td>\n",
              "      <td>...</td>\n",
              "      <td>0</td>\n",
              "      <td>0</td>\n",
              "      <td>0</td>\n",
              "      <td>0</td>\n",
              "      <td>0</td>\n",
              "      <td>0</td>\n",
              "      <td>0</td>\n",
              "      <td>0</td>\n",
              "      <td>0</td>\n",
              "      <td>0</td>\n",
              "    </tr>\n",
              "    <tr>\n",
              "      <th>253021</th>\n",
              "      <td>(972505, 68047513)</td>\n",
              "      <td>3</td>\n",
              "      <td>0</td>\n",
              "      <td>5</td>\n",
              "      <td>512</td>\n",
              "      <td>1</td>\n",
              "      <td>3</td>\n",
              "      <td>80</td>\n",
              "      <td>21</td>\n",
              "      <td>18</td>\n",
              "      <td>...</td>\n",
              "      <td>0</td>\n",
              "      <td>0</td>\n",
              "      <td>0</td>\n",
              "      <td>0</td>\n",
              "      <td>0</td>\n",
              "      <td>0</td>\n",
              "      <td>0</td>\n",
              "      <td>0</td>\n",
              "      <td>0</td>\n",
              "      <td>0</td>\n",
              "    </tr>\n",
              "    <tr>\n",
              "      <th>236923</th>\n",
              "      <td>(967600, 63706857)</td>\n",
              "      <td>6</td>\n",
              "      <td>1</td>\n",
              "      <td>7</td>\n",
              "      <td>27130</td>\n",
              "      <td>1</td>\n",
              "      <td>3</td>\n",
              "      <td>80</td>\n",
              "      <td>21</td>\n",
              "      <td>81</td>\n",
              "      <td>...</td>\n",
              "      <td>0</td>\n",
              "      <td>0</td>\n",
              "      <td>0</td>\n",
              "      <td>0</td>\n",
              "      <td>0</td>\n",
              "      <td>0</td>\n",
              "      <td>0</td>\n",
              "      <td>0</td>\n",
              "      <td>0</td>\n",
              "      <td>0</td>\n",
              "    </tr>\n",
              "    <tr>\n",
              "      <th>315417</th>\n",
              "      <td>(985906, 63861504)</td>\n",
              "      <td>6</td>\n",
              "      <td>1</td>\n",
              "      <td>5</td>\n",
              "      <td>43702</td>\n",
              "      <td>1</td>\n",
              "      <td>3</td>\n",
              "      <td>80</td>\n",
              "      <td>21</td>\n",
              "      <td>81</td>\n",
              "      <td>...</td>\n",
              "      <td>0</td>\n",
              "      <td>0</td>\n",
              "      <td>0</td>\n",
              "      <td>0</td>\n",
              "      <td>0</td>\n",
              "      <td>0</td>\n",
              "      <td>0</td>\n",
              "      <td>0</td>\n",
              "      <td>0</td>\n",
              "      <td>0</td>\n",
              "    </tr>\n",
              "    <tr>\n",
              "      <th>48973</th>\n",
              "      <td>(863100, 52208824)</td>\n",
              "      <td>5</td>\n",
              "      <td>0</td>\n",
              "      <td>4</td>\n",
              "      <td>5178</td>\n",
              "      <td>1</td>\n",
              "      <td>3</td>\n",
              "      <td>80</td>\n",
              "      <td>10</td>\n",
              "      <td>4</td>\n",
              "      <td>...</td>\n",
              "      <td>0</td>\n",
              "      <td>0</td>\n",
              "      <td>0</td>\n",
              "      <td>0</td>\n",
              "      <td>0</td>\n",
              "      <td>0</td>\n",
              "      <td>0</td>\n",
              "      <td>0</td>\n",
              "      <td>0</td>\n",
              "      <td>0</td>\n",
              "    </tr>\n",
              "    <tr>\n",
              "      <th>332926</th>\n",
              "      <td>(989205, 92653039)</td>\n",
              "      <td>5</td>\n",
              "      <td>0</td>\n",
              "      <td>3</td>\n",
              "      <td>9277</td>\n",
              "      <td>1</td>\n",
              "      <td>3</td>\n",
              "      <td>18</td>\n",
              "      <td>4</td>\n",
              "      <td>0</td>\n",
              "      <td>...</td>\n",
              "      <td>0</td>\n",
              "      <td>0</td>\n",
              "      <td>0</td>\n",
              "      <td>0</td>\n",
              "      <td>0</td>\n",
              "      <td>0</td>\n",
              "      <td>0</td>\n",
              "      <td>0</td>\n",
              "      <td>0</td>\n",
              "      <td>0</td>\n",
              "    </tr>\n",
              "    <tr>\n",
              "      <th>241149</th>\n",
              "      <td>(967600, 68230929)</td>\n",
              "      <td>6</td>\n",
              "      <td>1</td>\n",
              "      <td>5</td>\n",
              "      <td>27130</td>\n",
              "      <td>1</td>\n",
              "      <td>3</td>\n",
              "      <td>80</td>\n",
              "      <td>21</td>\n",
              "      <td>81</td>\n",
              "      <td>...</td>\n",
              "      <td>0</td>\n",
              "      <td>0</td>\n",
              "      <td>0</td>\n",
              "      <td>0</td>\n",
              "      <td>0</td>\n",
              "      <td>0</td>\n",
              "      <td>0</td>\n",
              "      <td>0</td>\n",
              "      <td>0</td>\n",
              "      <td>0</td>\n",
              "    </tr>\n",
              "    <tr>\n",
              "      <th>322785</th>\n",
              "      <td>(985906, 94443009)</td>\n",
              "      <td>6</td>\n",
              "      <td>0</td>\n",
              "      <td>6</td>\n",
              "      <td>43702</td>\n",
              "      <td>1</td>\n",
              "      <td>3</td>\n",
              "      <td>80</td>\n",
              "      <td>20</td>\n",
              "      <td>80</td>\n",
              "      <td>...</td>\n",
              "      <td>0</td>\n",
              "      <td>0</td>\n",
              "      <td>0</td>\n",
              "      <td>0</td>\n",
              "      <td>0</td>\n",
              "      <td>0</td>\n",
              "      <td>0</td>\n",
              "      <td>0</td>\n",
              "      <td>0</td>\n",
              "      <td>0</td>\n",
              "    </tr>\n",
              "    <tr>\n",
              "      <th>296369</th>\n",
              "      <td>(985906, 54121710)</td>\n",
              "      <td>6</td>\n",
              "      <td>1</td>\n",
              "      <td>5</td>\n",
              "      <td>43702</td>\n",
              "      <td>1</td>\n",
              "      <td>3</td>\n",
              "      <td>80</td>\n",
              "      <td>21</td>\n",
              "      <td>81</td>\n",
              "      <td>...</td>\n",
              "      <td>0</td>\n",
              "      <td>0</td>\n",
              "      <td>0</td>\n",
              "      <td>0</td>\n",
              "      <td>0</td>\n",
              "      <td>0</td>\n",
              "      <td>0</td>\n",
              "      <td>0</td>\n",
              "      <td>0</td>\n",
              "      <td>0</td>\n",
              "    </tr>\n",
              "    <tr>\n",
              "      <th>325006</th>\n",
              "      <td>(987708, 52871118)</td>\n",
              "      <td>5</td>\n",
              "      <td>1</td>\n",
              "      <td>5</td>\n",
              "      <td>6902</td>\n",
              "      <td>1</td>\n",
              "      <td>3</td>\n",
              "      <td>80</td>\n",
              "      <td>21</td>\n",
              "      <td>81</td>\n",
              "      <td>...</td>\n",
              "      <td>0</td>\n",
              "      <td>0</td>\n",
              "      <td>0</td>\n",
              "      <td>0</td>\n",
              "      <td>0</td>\n",
              "      <td>0</td>\n",
              "      <td>0</td>\n",
              "      <td>0</td>\n",
              "      <td>0</td>\n",
              "      <td>0</td>\n",
              "    </tr>\n",
              "    <tr>\n",
              "      <th>300840</th>\n",
              "      <td>(985906, 59072157)</td>\n",
              "      <td>6</td>\n",
              "      <td>1</td>\n",
              "      <td>5</td>\n",
              "      <td>43702</td>\n",
              "      <td>1</td>\n",
              "      <td>3</td>\n",
              "      <td>80</td>\n",
              "      <td>21</td>\n",
              "      <td>81</td>\n",
              "      <td>...</td>\n",
              "      <td>0</td>\n",
              "      <td>0</td>\n",
              "      <td>0</td>\n",
              "      <td>0</td>\n",
              "      <td>0</td>\n",
              "      <td>0</td>\n",
              "      <td>0</td>\n",
              "      <td>0</td>\n",
              "      <td>0</td>\n",
              "      <td>0</td>\n",
              "    </tr>\n",
              "  </tbody>\n",
              "</table>\n",
              "<p>20 rows × 26 columns</p>\n",
              "</div>\n",
              "      <button class=\"colab-df-convert\" onclick=\"convertToInteractive('df-4ac94381-00fe-45e7-89b8-fb5da4afefaa')\"\n",
              "              title=\"Convert this dataframe to an interactive table.\"\n",
              "              style=\"display:none;\">\n",
              "        \n",
              "  <svg xmlns=\"http://www.w3.org/2000/svg\" height=\"24px\"viewBox=\"0 0 24 24\"\n",
              "       width=\"24px\">\n",
              "    <path d=\"M0 0h24v24H0V0z\" fill=\"none\"/>\n",
              "    <path d=\"M18.56 5.44l.94 2.06.94-2.06 2.06-.94-2.06-.94-.94-2.06-.94 2.06-2.06.94zm-11 1L8.5 8.5l.94-2.06 2.06-.94-2.06-.94L8.5 2.5l-.94 2.06-2.06.94zm10 10l.94 2.06.94-2.06 2.06-.94-2.06-.94-.94-2.06-.94 2.06-2.06.94z\"/><path d=\"M17.41 7.96l-1.37-1.37c-.4-.4-.92-.59-1.43-.59-.52 0-1.04.2-1.43.59L10.3 9.45l-7.72 7.72c-.78.78-.78 2.05 0 2.83L4 21.41c.39.39.9.59 1.41.59.51 0 1.02-.2 1.41-.59l7.78-7.78 2.81-2.81c.8-.78.8-2.07 0-2.86zM5.41 20L4 18.59l7.72-7.72 1.47 1.35L5.41 20z\"/>\n",
              "  </svg>\n",
              "      </button>\n",
              "      \n",
              "  <style>\n",
              "    .colab-df-container {\n",
              "      display:flex;\n",
              "      flex-wrap:wrap;\n",
              "      gap: 12px;\n",
              "    }\n",
              "\n",
              "    .colab-df-convert {\n",
              "      background-color: #E8F0FE;\n",
              "      border: none;\n",
              "      border-radius: 50%;\n",
              "      cursor: pointer;\n",
              "      display: none;\n",
              "      fill: #1967D2;\n",
              "      height: 32px;\n",
              "      padding: 0 0 0 0;\n",
              "      width: 32px;\n",
              "    }\n",
              "\n",
              "    .colab-df-convert:hover {\n",
              "      background-color: #E2EBFA;\n",
              "      box-shadow: 0px 1px 2px rgba(60, 64, 67, 0.3), 0px 1px 3px 1px rgba(60, 64, 67, 0.15);\n",
              "      fill: #174EA6;\n",
              "    }\n",
              "\n",
              "    [theme=dark] .colab-df-convert {\n",
              "      background-color: #3B4455;\n",
              "      fill: #D2E3FC;\n",
              "    }\n",
              "\n",
              "    [theme=dark] .colab-df-convert:hover {\n",
              "      background-color: #434B5C;\n",
              "      box-shadow: 0px 1px 3px 1px rgba(0, 0, 0, 0.15);\n",
              "      filter: drop-shadow(0px 1px 2px rgba(0, 0, 0, 0.3));\n",
              "      fill: #FFFFFF;\n",
              "    }\n",
              "  </style>\n",
              "\n",
              "      <script>\n",
              "        const buttonEl =\n",
              "          document.querySelector('#df-4ac94381-00fe-45e7-89b8-fb5da4afefaa button.colab-df-convert');\n",
              "        buttonEl.style.display =\n",
              "          google.colab.kernel.accessAllowed ? 'block' : 'none';\n",
              "\n",
              "        async function convertToInteractive(key) {\n",
              "          const element = document.querySelector('#df-4ac94381-00fe-45e7-89b8-fb5da4afefaa');\n",
              "          const dataTable =\n",
              "            await google.colab.kernel.invokeFunction('convertToInteractive',\n",
              "                                                     [key], {});\n",
              "          if (!dataTable) return;\n",
              "\n",
              "          const docLinkHtml = 'Like what you see? Visit the ' +\n",
              "            '<a target=\"_blank\" href=https://colab.research.google.com/notebooks/data_table.ipynb>data table notebook</a>'\n",
              "            + ' to learn more about interactive tables.';\n",
              "          element.innerHTML = '';\n",
              "          dataTable['output_type'] = 'display_data';\n",
              "          await google.colab.output.renderOutput(dataTable, element);\n",
              "          const docLink = document.createElement('div');\n",
              "          docLink.innerHTML = docLinkHtml;\n",
              "          element.appendChild(docLink);\n",
              "        }\n",
              "      </script>\n",
              "    </div>\n",
              "  </div>\n",
              "  "
            ]
          },
          "metadata": {},
          "execution_count": 18
        }
      ]
    },
    {
      "cell_type": "markdown",
      "source": [
        "## Обучение"
      ],
      "metadata": {
        "id": "T1ZivRqvk08r"
      }
    },
    {
      "cell_type": "code",
      "source": [
        "def metrics(y_test, y_pred):\n",
        "    \"\"\"Комплексный расчет метрик\"\"\"\n",
        "    \n",
        "    conf_matrix = confusion_matrix(y_test, y_pred)\n",
        "    precision = precision_score(y_test, y_pred).round(4)\n",
        "    recall = recall_score(y_test, y_pred).round(4)\n",
        "    roc_auc = roc_auc_score(y_test, y_pred).round(4)\n",
        "    f1 = f1_score(y_test, y_pred).round(4)\n",
        "    accuracy = accuracy_score(y_test, y_pred)\n",
        "    \n",
        "    # Если необходимо вывести метрики на печать - раскомментировать\n",
        "    print('Матрица:')\n",
        "    print(conf_matrix)\n",
        "    print('точность (precision) - ', precision)\n",
        "    print('полнота (recall) -', recall)\n",
        "    print('roc_auc - ', roc_auc)\n",
        "    print('f1_score - ', f1)\n",
        "    print('accuracy - ', accuracy)\n",
        "\n",
        "    \n",
        "    #return {'conf_matrix': conf_matrix, 'precision': precision, 'recall': recall, 'roc_auc': roc_auc, 'f1': f1}"
      ],
      "metadata": {
        "id": "0-8GXyJmG5-z"
      },
      "execution_count": 19,
      "outputs": []
    },
    {
      "cell_type": "code",
      "source": [
        "RANDOM_STATE = 42"
      ],
      "metadata": {
        "id": "dXCINStaDuu5"
      },
      "execution_count": 20,
      "outputs": []
    },
    {
      "cell_type": "code",
      "source": [
        "# Разбиваем на признаки и целевую переменную\n",
        "X = data_tr.drop(['st_vag', 'присоединение_36ч'], axis=1)\n",
        "Y = data_tr['присоединение_36ч']\n"
      ],
      "metadata": {
        "id": "sRpNqu2EC8nL"
      },
      "execution_count": 21,
      "outputs": []
    },
    {
      "cell_type": "code",
      "source": [
        "# Разобъем нашу выборку на обучающую и тестовую\n",
        "X_train, X_test, Y_train, Y_test = train_test_split(X,Y, test_size=0.2, random_state=RANDOM_STATE, shuffle=True, stratify=Y)"
      ],
      "metadata": {
        "id": "sgWicEgEEIQ8"
      },
      "execution_count": 22,
      "outputs": []
    },
    {
      "cell_type": "code",
      "source": [
        "# Разделим X_train на тестовую и валидационную выборки\n",
        "X_train, X_valid, Y_train, Y_valid = train_test_split(X_train, Y_train, test_size=0.2, random_state=RANDOM_STATE, shuffle=True, stratify=Y_train)"
      ],
      "metadata": {
        "id": "5EuVjWxLPAqw"
      },
      "execution_count": 23,
      "outputs": []
    },
    {
      "cell_type": "markdown",
      "source": [
        "## RandomForestClassifier"
      ],
      "metadata": {
        "id": "65kFy4E1KEtv"
      }
    },
    {
      "cell_type": "code",
      "source": [
        "# Для таких признаков лучше всего подойдет модель Смешанный лес. \n",
        "# Так как Смешаннй лес не чуствительный к разному масштабу данных, то масштабировать данные не будем."
      ],
      "metadata": {
        "id": "jlXaFKbmlbc2"
      },
      "execution_count": 24,
      "outputs": []
    },
    {
      "cell_type": "code",
      "source": [
        "clf_RFC = RandomForestClassifier(n_estimators=15, random_state=RANDOM_STATE)\n",
        "clf_RFC = clf_RFC.fit(X_train, Y_train)\n",
        "Y_pred = clf_RFC.predict(X_test)\n",
        "metrics(Y_test, Y_pred)"
      ],
      "metadata": {
        "colab": {
          "base_uri": "https://localhost:8080/"
        },
        "id": "e5zWANjEErYY",
        "outputId": "c41eaf68-1113-49e8-b833-ac6c39a4bd44"
      },
      "execution_count": 25,
      "outputs": [
        {
          "output_type": "stream",
          "name": "stdout",
          "text": [
            "Матрица:\n",
            "[[42187  4755]\n",
            " [ 4733 15060]]\n",
            "точность (precision) -  0.76\n",
            "полнота (recall) - 0.7609\n",
            "roc_auc -  0.8298\n",
            "f1_score -  0.7605\n",
            "accuracy -  0.8578257286281561\n"
          ]
        }
      ]
    },
    {
      "cell_type": "markdown",
      "source": [
        "**Метрики качества:**\n",
        "\n",
        "Точность и полнота получились сбалансированными между собой и составляют по 76%.  \n",
        "Что так же видно и по конфигурационной матрице ошиок.\n",
        "\n",
        "accuracy (доляверных ответов) - 86%"
      ],
      "metadata": {
        "id": "invrc1TcpIbE"
      }
    },
    {
      "cell_type": "code",
      "source": [
        "# метрики с учетом границы - мы можем выбирать в чем нам лучше ошибиться\n",
        "vf = np.vectorize(lambda x: 1 if x > 0.35 else 0)\n",
        "Y_pred_with_probability = vf(clf_RFC.predict_proba(X_test)[:,1])\n",
        "\n",
        "metrics(Y_test, Y_pred_with_probability)"
      ],
      "metadata": {
        "colab": {
          "base_uri": "https://localhost:8080/"
        },
        "id": "o6u-iZbjw6Mj",
        "outputId": "79ab11ce-e514-44a9-e858-8d9da881eb0c"
      },
      "execution_count": 78,
      "outputs": [
        {
          "output_type": "stream",
          "name": "stdout",
          "text": [
            "Матрица:\n",
            "[[39554  7388]\n",
            " [ 2860 16933]]\n",
            "точность (precision) -  0.6962\n",
            "полнота (recall) - 0.8555\n",
            "roc_auc -  0.8491\n",
            "f1_score -  0.7677\n",
            "accuracy -  0.8464374016632952\n"
          ]
        }
      ]
    },
    {
      "cell_type": "code",
      "source": [
        "RF_feaches = pd.Series(clf_RFC.feature_importances_)\n",
        "RF_feaches.index = X.columns\n",
        "RF_feaches = RF_feaches.sort_values(ascending=False)\n",
        "\n",
        "RF_feaches.plot.bar(figsize=(20,5))\n",
        "plt.ylabel('Уровень значимости признаков')\n",
        "plt.title('Распределение признаков в модели классификации RandomForestClassifier', fontsize = 17)\n",
        "plt.show()"
      ],
      "metadata": {
        "colab": {
          "base_uri": "https://localhost:8080/",
          "height": 446
        },
        "id": "DfzfnH0A-HVK",
        "outputId": "44f8e8d1-b043-4baa-9b88-e301103dcbab"
      },
      "execution_count": 26,
      "outputs": [
        {
          "output_type": "display_data",
          "data": {
            "text/plain": [
              "<Figure size 1440x360 with 1 Axes>"
            ],
            "image/png": "[encoded data removed]"
          },
          "metadata": {
            "needs_background": "light"
          }
        }
      ]
    },
    {
      "cell_type": "markdown",
      "source": [
        "**Наиболее важными признаками модель определила:**\n",
        "1. Пропускная способность станции (сколько она обслужила вагонов в месяце)\n",
        "2. Конечная эта или транзитная станция\n",
        "3. Первые операции технологического процесса (1-4)\n",
        "4. Ранг станции - это распределение станций по группам, в зависимости от пропускной способности\n",
        "5. Количество операций технологического процесса над вагоном \n",
        "\n",
        "Эти же признаки нами выявили и в результате анализа данных.\n",
        "\n"
      ],
      "metadata": {
        "id": "dxyHIJCvnanC"
      }
    },
    {
      "cell_type": "code",
      "source": [
        "# Считает долго - без нужды не запускать\n",
        "# # Подбор гиперпараметров\n",
        "# n_estimators = [10, 25, 40, 60,75]\n",
        "# max_features = [4,6,8,10]\n",
        "# max_depth = [2,3,7,11,15]\n",
        "# min_samples_split = [2,3,4,22,23,24]\n",
        "# min_samples_leaf = [2,3,4,5,6,7]\n",
        "# bootstrap = [False]\n",
        "# param_grid = {'n_estimators': n_estimators,\n",
        "#                'max_features': max_features,\n",
        "#                'max_depth': max_depth,\n",
        "#                'min_samples_split': min_samples_split,\n",
        "#                'min_samples_leaf': min_samples_leaf,\n",
        "#                'bootstrap': bootstrap}\n",
        "# gs = GridSearchCV(clf_RFC, param_grid, cv = 3, verbose = 1, n_jobs=-1)\n",
        "# gs.fit(X_valid, Y_valid)\n",
        "# clf_RFC = gs.best_estimator_\n",
        "# gs.best_params_"
      ],
      "metadata": {
        "id": "lznRJhOnOpfv"
      },
      "execution_count": 27,
      "outputs": []
    },
    {
      "cell_type": "code",
      "source": [
        "clf_RFC_bp = RandomForestClassifier(n_estimators=60, \n",
        "                                    bootstrap=False,\n",
        "                                    max_depth=15,\n",
        "                                    max_features=10,\n",
        "                                    min_samples_leaf=2,\n",
        "                                    min_samples_split=2,\n",
        "                                    random_state=RANDOM_STATE)\n",
        "clf_RFC_bp = clf_RFC_bp.fit(X_train, Y_train)\n",
        "Y_pred = clf_RFC_bp.predict(X_test)\n",
        "metrics(Y_test, Y_pred)"
      ],
      "metadata": {
        "colab": {
          "base_uri": "https://localhost:8080/"
        },
        "id": "hSrs27YSOpis",
        "outputId": "1b8e3a4d-7135-4739-e645-2db9fb44a0c2"
      },
      "execution_count": 28,
      "outputs": [
        {
          "output_type": "stream",
          "name": "stdout",
          "text": [
            "Матрица:\n",
            "[[43210  3732]\n",
            " [ 6388 13405]]\n",
            "точность (precision) -  0.7822\n",
            "полнота (recall) - 0.6773\n",
            "roc_auc -  0.7989\n",
            "f1_score -  0.726\n",
            "accuracy -  0.8483554356784296\n"
          ]
        }
      ]
    },
    {
      "cell_type": "code",
      "source": [
        "RF_feaches = pd.Series(clf_RFC.feature_importances_)\n",
        "RF_feaches.index = X.columns\n",
        "RF_feaches = RF_feaches.sort_values(ascending=False)\n",
        "\n",
        "RF_feaches.plot.bar(figsize=(20,5))\n",
        "plt.ylabel('Уровень значимости признаков')\n",
        "plt.title('Распределение признаков в модели классификации RandomForestClassifier', fontsize = 17)\n",
        "plt.show()"
      ],
      "metadata": {
        "colab": {
          "base_uri": "https://localhost:8080/",
          "height": 446
        },
        "id": "JRVK7UHqfM4h",
        "outputId": "fa30541f-4bf6-43f4-a5f5-7d1571c1ac00"
      },
      "execution_count": 29,
      "outputs": [
        {
          "output_type": "display_data",
          "data": {
            "text/plain": [
              "<Figure size 1440x360 with 1 Axes>"
            ],
            "image/png": "[encoded data removed]"
          },
          "metadata": {
            "needs_background": "light"
          }
        }
      ]
    },
    {
      "cell_type": "markdown",
      "source": [
        "Гиперпараметры картину не изменили, а даже ухудшили по многим метрикам. Распределение признаков осталось прежнем. Оставим базовую модель\n",
        "\n"
      ],
      "metadata": {
        "id": "EiK11GQd_rQ-"
      }
    },
    {
      "cell_type": "markdown",
      "source": [
        "**Сохранение модели в файл**"
      ],
      "metadata": {
        "id": "rnEVhvEDLgZm"
      }
    },
    {
      "cell_type": "code",
      "source": [
        "with open(path+'model_clf_RFC.pkl', 'wb') as file:\n",
        "    pickle.dump(clf_RFC, file)"
      ],
      "metadata": {
        "id": "i6uPiWV3MlKJ"
      },
      "execution_count": 30,
      "outputs": []
    },
    {
      "cell_type": "code",
      "source": [
        "X_test.to_csv(path+'X_test.csv', index=False)\n",
        "Y_test.to_csv(path+'Y_test.csv', index=False)"
      ],
      "metadata": {
        "id": "lCmjAKBch_eW"
      },
      "execution_count": 31,
      "outputs": []
    },
    {
      "cell_type": "markdown",
      "source": [
        "## Catboost"
      ],
      "metadata": {
        "id": "Krk8qjNVNJvL"
      }
    },
    {
      "cell_type": "code",
      "source": [
        "\n",
        "# from catboost import CatBoostClassifier, Pool, FeaturesData, MetricVisualizer, cv\n",
        "# from catboost.utils import create_cd, get_roc_curve, get_fpr_curve, get_fnr_curve, select_threshold\n",
        "# from catboost.eval.catboost_evaluation import *\n",
        "# from catboost.eval.evaluation_result import *\n",
        "# import shap\n",
        "# import matplotlib.pyplot as plt\n",
        "\n",
        "# np.set_printoptions(precision=3)\n"
      ],
      "metadata": {
        "id": "fe8D01C4Nmjb"
      },
      "execution_count": 32,
      "outputs": []
    },
    {
      "cell_type": "code",
      "source": [
        "# Catboost необходимо сказать, какие признаки категориальные - сделаем массив с индексами категориальных фичей\n",
        "# В нашем датасете это все, кроме 'ст_опер_кол_ваг' - индекс 3\n",
        "cat_features = list(range(0, X.shape[1])) # Датасет X - без targetа\n",
        "if 3 in cat_features:\n",
        "    cat_features.remove(3)\n",
        "print(cat_features)   "
      ],
      "metadata": {
        "colab": {
          "base_uri": "https://localhost:8080/"
        },
        "id": "0eecHbwSPgFg",
        "outputId": "5558ae8e-c00d-49e3-c43b-d1e9691631b9"
      },
      "execution_count": 33,
      "outputs": [
        {
          "output_type": "stream",
          "name": "stdout",
          "text": [
            "[0, 1, 2, 4, 5, 6, 7, 8, 9, 10, 11, 12, 13, 14, 15, 16, 17, 18, 19, 20, 21, 22, 23]\n"
          ]
        }
      ]
    },
    {
      "cell_type": "code",
      "source": [
        "model_CBclass = CatBoostClassifier(\n",
        "    iterations=1000, # число итераций\n",
        "    learning_rate=0.01, # шаг\n",
        "    l2_leaf_reg=3, # делает так, чтобы листья в дереве не становились бесконечностью\n",
        "    bagging_temperature=1,\n",
        "    random_strength=1,\n",
        "    one_hot_max_size=2,\n",
        "    leaf_estimation_method='Newton', # метод по которому будем подбирать значения в листьях\n",
        "    loss_function = 'Logloss',\n",
        "    custom_loss=['AUC', 'Accuracy'],\n",
        "    random_seed = RANDOM_STATE, \n",
        "    metric_period=25, # вывод информации о процессе обучения более компактный (через сколько итераций, и для графиков это тоже работает)\n",
        ")\n",
        "\n",
        "model_CBclass.fit(\n",
        "    X_train, Y_train,\n",
        "    cat_features=cat_features,\n",
        "    eval_set=(X_valid, Y_valid),\n",
        "    verbose=25,\n",
        "    plot=True # график в colab не строится, а в juputer можно посмотрть,запустив этот код\n",
        ")"
      ],
      "metadata": {
        "colab": {
          "base_uri": "https://localhost:8080/",
          "height": 816,
          "referenced_widgets": [
            "6af6f0fbb920455a83bb398c46ec9a90"
          ]
        },
        "id": "4LT8Y-NQR8M2",
        "outputId": "39456b57-95f9-4487-c22c-2ad8ecd6693f"
      },
      "execution_count": 37,
      "outputs": [
        {
          "output_type": "display_data",
          "data": {
            "text/plain": [
              "MetricVisualizer(layout=Layout(align_self='stretch', height='500px'))"
            ],
            "application/vnd.jupyter.widget-view+json": {
              "version_major": 2,
              "version_minor": 0,
              "model_id": "6af6f0fbb920455a83bb398c46ec9a90"
            }
          },
          "metadata": {}
        },
        {
          "output_type": "stream",
          "name": "stdout",
          "text": [
            "0:\tlearn: 0.6876768\ttest: 0.6876941\tbest: 0.6876941 (0)\ttotal: 3.22s\tremaining: 53m 38s\n",
            "25:\tlearn: 0.5845020\ttest: 0.5849457\tbest: 0.5849457 (25)\ttotal: 27.4s\tremaining: 17m 6s\n",
            "50:\tlearn: 0.5311263\ttest: 0.5319168\tbest: 0.5319168 (50)\ttotal: 48.8s\tremaining: 15m 8s\n",
            "75:\tlearn: 0.5000935\ttest: 0.5011637\tbest: 0.5011637 (75)\ttotal: 1m 9s\tremaining: 14m 9s\n",
            "100:\tlearn: 0.4819308\ttest: 0.4830958\tbest: 0.4830958 (100)\ttotal: 1m 32s\tremaining: 13m 40s\n",
            "125:\tlearn: 0.4684639\ttest: 0.4699466\tbest: 0.4699466 (125)\ttotal: 1m 54s\tremaining: 13m 16s\n",
            "150:\tlearn: 0.4573017\ttest: 0.4589870\tbest: 0.4589870 (150)\ttotal: 2m 17s\tremaining: 12m 54s\n",
            "175:\tlearn: 0.4485848\ttest: 0.4503511\tbest: 0.4503511 (175)\ttotal: 2m 39s\tremaining: 12m 27s\n",
            "200:\tlearn: 0.4422035\ttest: 0.4440866\tbest: 0.4440866 (200)\ttotal: 3m 2s\tremaining: 12m 4s\n",
            "225:\tlearn: 0.4372749\ttest: 0.4392652\tbest: 0.4392652 (225)\ttotal: 3m 23s\tremaining: 11m 38s\n",
            "250:\tlearn: 0.4328428\ttest: 0.4349361\tbest: 0.4349361 (250)\ttotal: 3m 45s\tremaining: 11m 13s\n",
            "275:\tlearn: 0.4292804\ttest: 0.4315010\tbest: 0.4315010 (275)\ttotal: 4m 8s\tremaining: 10m 50s\n",
            "300:\tlearn: 0.4262000\ttest: 0.4284841\tbest: 0.4284841 (300)\ttotal: 4m 30s\tremaining: 10m 28s\n",
            "325:\tlearn: 0.4236071\ttest: 0.4259225\tbest: 0.4259225 (325)\ttotal: 4m 53s\tremaining: 10m 6s\n",
            "350:\tlearn: 0.4212160\ttest: 0.4236107\tbest: 0.4236107 (350)\ttotal: 5m 14s\tremaining: 9m 42s\n",
            "375:\tlearn: 0.4190751\ttest: 0.4215270\tbest: 0.4215270 (375)\ttotal: 5m 37s\tremaining: 9m 19s\n",
            "400:\tlearn: 0.4170468\ttest: 0.4195099\tbest: 0.4195099 (400)\ttotal: 5m 59s\tremaining: 8m 56s\n",
            "425:\tlearn: 0.4152932\ttest: 0.4177678\tbest: 0.4177678 (425)\ttotal: 6m 21s\tremaining: 8m 33s\n",
            "450:\tlearn: 0.4135130\ttest: 0.4159883\tbest: 0.4159883 (450)\ttotal: 6m 43s\tremaining: 8m 10s\n",
            "475:\tlearn: 0.4120092\ttest: 0.4144559\tbest: 0.4144559 (475)\ttotal: 7m 7s\tremaining: 7m 50s\n",
            "500:\tlearn: 0.4105055\ttest: 0.4129557\tbest: 0.4129557 (500)\ttotal: 7m 29s\tremaining: 7m 27s\n",
            "525:\tlearn: 0.4089855\ttest: 0.4114117\tbest: 0.4114117 (525)\ttotal: 7m 51s\tremaining: 7m 5s\n",
            "550:\tlearn: 0.4075054\ttest: 0.4099733\tbest: 0.4099733 (550)\ttotal: 8m 14s\tremaining: 6m 43s\n",
            "575:\tlearn: 0.4060809\ttest: 0.4085445\tbest: 0.4085445 (575)\ttotal: 8m 37s\tremaining: 6m 20s\n",
            "600:\tlearn: 0.4045891\ttest: 0.4070596\tbest: 0.4070596 (600)\ttotal: 9m 1s\tremaining: 5m 59s\n",
            "625:\tlearn: 0.4031991\ttest: 0.4057032\tbest: 0.4057032 (625)\ttotal: 9m 23s\tremaining: 5m 36s\n",
            "650:\tlearn: 0.4020182\ttest: 0.4045396\tbest: 0.4045396 (650)\ttotal: 9m 45s\tremaining: 5m 14s\n",
            "675:\tlearn: 0.4008023\ttest: 0.4033794\tbest: 0.4033794 (675)\ttotal: 10m 8s\tremaining: 4m 51s\n",
            "700:\tlearn: 0.3995571\ttest: 0.4021331\tbest: 0.4021331 (700)\ttotal: 10m 31s\tremaining: 4m 29s\n",
            "725:\tlearn: 0.3982041\ttest: 0.4007515\tbest: 0.4007515 (725)\ttotal: 10m 54s\tremaining: 4m 7s\n",
            "750:\tlearn: 0.3970770\ttest: 0.3996618\tbest: 0.3996618 (750)\ttotal: 11m 16s\tremaining: 3m 44s\n",
            "775:\tlearn: 0.3959348\ttest: 0.3985566\tbest: 0.3985566 (775)\ttotal: 11m 39s\tremaining: 3m 21s\n",
            "800:\tlearn: 0.3949888\ttest: 0.3976348\tbest: 0.3976348 (800)\ttotal: 12m 1s\tremaining: 2m 59s\n",
            "825:\tlearn: 0.3942190\ttest: 0.3968957\tbest: 0.3968957 (825)\ttotal: 12m 22s\tremaining: 2m 36s\n",
            "850:\tlearn: 0.3933943\ttest: 0.3960712\tbest: 0.3960712 (850)\ttotal: 12m 44s\tremaining: 2m 13s\n",
            "875:\tlearn: 0.3925691\ttest: 0.3952571\tbest: 0.3952571 (875)\ttotal: 13m 6s\tremaining: 1m 51s\n",
            "900:\tlearn: 0.3914454\ttest: 0.3941601\tbest: 0.3941601 (900)\ttotal: 13m 29s\tremaining: 1m 28s\n",
            "925:\tlearn: 0.3905475\ttest: 0.3933043\tbest: 0.3933043 (925)\ttotal: 13m 52s\tremaining: 1m 6s\n",
            "950:\tlearn: 0.3898216\ttest: 0.3925934\tbest: 0.3925934 (950)\ttotal: 14m 12s\tremaining: 43.9s\n",
            "975:\tlearn: 0.3890803\ttest: 0.3919004\tbest: 0.3919004 (975)\ttotal: 14m 34s\tremaining: 21.5s\n",
            "999:\tlearn: 0.3883175\ttest: 0.3911688\tbest: 0.3911688 (999)\ttotal: 14m 56s\tremaining: 0us\n",
            "\n",
            "bestTest = 0.391168845\n",
            "bestIteration = 999\n",
            "\n"
          ]
        },
        {
          "output_type": "execute_result",
          "data": {
            "text/plain": [
              "<catboost.core.CatBoostClassifier at 0x7fbd465861d0>"
            ]
          },
          "metadata": {},
          "execution_count": 37
        }
      ]
    },
    {
      "cell_type": "code",
      "source": [
        "print('Количесвто деревьев:', model_CBclass.tree_count_)"
      ],
      "metadata": {
        "colab": {
          "base_uri": "https://localhost:8080/"
        },
        "id": "yMWA2XwhWZ1e",
        "outputId": "55f531ab-28d5-4a06-e4bf-a115746b98f3"
      },
      "execution_count": 38,
      "outputs": [
        {
          "output_type": "stream",
          "name": "stdout",
          "text": [
            "Количесвто деревьев: 1000\n"
          ]
        }
      ]
    },
    {
      "cell_type": "code",
      "source": [
        "# метрики \n",
        "metrics(Y_test, model_CBclass.predict(X_test))"
      ],
      "metadata": {
        "colab": {
          "base_uri": "https://localhost:8080/"
        },
        "id": "wfySQuxpVBCQ",
        "outputId": "9d6d4510-9443-49f7-bcc4-780b641bca00"
      },
      "execution_count": 39,
      "outputs": [
        {
          "output_type": "stream",
          "name": "stdout",
          "text": [
            "Матрица:\n",
            "[[43054  3888]\n",
            " [ 7627 12166]]\n",
            "точность (precision) -  0.7578\n",
            "полнота (recall) - 0.6147\n",
            "roc_auc -  0.7659\n",
            "f1_score -  0.6788\n",
            "accuracy -  0.8274518618416123\n"
          ]
        }
      ]
    },
    {
      "cell_type": "code",
      "source": [
        "eval_pool = Pool(X_valid, Y_valid, cat_features)\n",
        "curve = get_roc_curve(model_CBclass, eval_pool)# возвращает 3 массива\n",
        "(fpr, tpr, thresholds) = curve \n",
        "# thresholds - граница принятия решения к какому классу отнести от 0 до 1\n",
        "# fpr, tpr - вектора, которые этим границам соответсвуют\n",
        "roc_auc = auc(fpr, tpr)"
      ],
      "metadata": {
        "id": "RsnXiYPjbjat"
      },
      "execution_count": 40,
      "outputs": []
    },
    {
      "cell_type": "code",
      "source": [
        "plt.figure(figsize=(7, 7))\n",
        "lw = 2\n",
        "\n",
        "plt.plot(fpr, tpr, color='darkorange',\n",
        "        lw=lw, label=\"ROC-кривая (area = %0.2f)\" % roc_auc, alpha=0.5)\n",
        "\n",
        "plt.plot([0, 1], [0, 1], color='navy', lw=lw, linestyle='--', alpha=0.5)\n",
        "\n",
        "plt.xlim([0.0, 1.0])\n",
        "plt.ylim([0.0, 1.0])\n",
        "plt.xticks(fontsize=16)\n",
        "plt.yticks(fontsize=16)\n",
        "plt.grid(True)\n",
        "plt.xlabel('False Positive Rate', fontsize=16)\n",
        "plt.ylabel('True Positive Rate', fontsize=16)\n",
        "plt.title('ROC-кривая', fontsize=20)\n",
        "plt.legend(loc='lower right',  fontsize=16)\n",
        "plt.show()"
      ],
      "metadata": {
        "colab": {
          "base_uri": "https://localhost:8080/",
          "height": 473
        },
        "id": "PX7OCMOEcmo8",
        "outputId": "2e746df9-3e48-452c-ddd3-6fd0318c5e09"
      },
      "execution_count": 41,
      "outputs": [
        {
          "output_type": "display_data",
          "data": {
            "text/plain": [
              "<Figure size 504x504 with 1 Axes>"
            ],
            "image/png": "[encoded data removed]"
          },
          "metadata": {
            "needs_background": "light"
          }
        }
      ]
    },
    {
      "cell_type": "code",
      "source": [
        "(thresholds, fpr) = get_fpr_curve(curve=curve)\n",
        "(thresholds, fnr) = get_fnr_curve(curve=curve)\n",
        "\n",
        "plt.figure(figsize=(15, 7))\n",
        "lw = 2\n",
        "\n",
        "plt.plot(thresholds, fpr, color='blue', lw=lw, label='FPR', alpha=0.5)\n",
        "plt.plot(thresholds, fnr, color='green', lw=lw, label='FNR', alpha=0.5)\n",
        "\n",
        "plt.xlim([0.0, 1.0])\n",
        "plt.ylim([0.0, 1.0])\n",
        "plt.xticks(fontsize=16)\n",
        "plt.yticks(fontsize=16)\n",
        "plt.grid(True)\n",
        "plt.xlabel('Thresholds', fontsize=16)\n",
        "plt.ylabel('Error Rate', fontsize=16)\n",
        "plt.title('FPR-FNR кривые', fontsize=20)\n",
        "plt.legend(loc='lower left',  fontsize=16)\n",
        "plt.show()"
      ],
      "metadata": {
        "colab": {
          "base_uri": "https://localhost:8080/",
          "height": 473
        },
        "id": "OhjwvPzactUa",
        "outputId": "943ab0a5-9a46-4721-e3ac-e82134f7a94f"
      },
      "execution_count": 42,
      "outputs": [
        {
          "output_type": "display_data",
          "data": {
            "text/plain": [
              "<Figure size 1080x504 with 1 Axes>"
            ],
            "image/png": "[encoded data removed]"
          },
          "metadata": {
            "needs_background": "light"
          }
        }
      ]
    },
    {
      "cell_type": "code",
      "source": [
        "# Выбор границы\n",
        "print('Если хотим ошибаться в 5% положительного класса - threshold = ', end='' )\n",
        "print(select_threshold(model=model_CBclass, data=eval_pool, FNR=0.05))\n",
        "print('Если хотим ошибаться в 5% отрицательного класса - threshold = ', end='' )\n",
        "print(select_threshold(model=model_CBclass, data=eval_pool, FPR=0.05))"
      ],
      "metadata": {
        "colab": {
          "base_uri": "https://localhost:8080/"
        },
        "id": "diHeRfnxc7do",
        "outputId": "cdba2588-8696-4c1a-c0e6-48d9952e54c3"
      },
      "execution_count": 43,
      "outputs": [
        {
          "output_type": "stream",
          "name": "stdout",
          "text": [
            "Если хотим ошибаться в 5% положительного класса - threshold = 0.1410577875667623\n",
            "Если хотим ошибаться в 5% отрицательного класса - threshold = 0.6613807375694891\n"
          ]
        }
      ]
    },
    {
      "cell_type": "code",
      "source": [
        "# важность признаков модели - на сколько эта фича важна\n",
        "model_CBclass.get_feature_importance(prettified=True)"
      ],
      "metadata": {
        "colab": {
          "base_uri": "https://localhost:8080/",
          "height": 802
        },
        "id": "J5SldjJedMvB",
        "outputId": "5ce9684c-42ee-4f4e-f456-b0159151524a"
      },
      "execution_count": 44,
      "outputs": [
        {
          "output_type": "execute_result",
          "data": {
            "text/plain": [
              "             Feature Id  Importances\n",
              "0       ст_опер_кол_ваг    25.267956\n",
              "1              опер.№_7    16.636402\n",
              "2              опер.№_2    10.036059\n",
              "3              опер.№_4     8.128971\n",
              "4           изм_станции     7.760507\n",
              "5              опер.№_5     6.357477\n",
              "6              опер.№_1     6.343687\n",
              "7              опер.№_3     5.101647\n",
              "8              опер.№_9     4.124572\n",
              "9          ранг_станции     3.766838\n",
              "10             опер.№_6     2.248286\n",
              "11             опер.№_8     1.599753\n",
              "12  количество_операций     1.287708\n",
              "13            опер.№_10     0.618983\n",
              "14            опер.№_11     0.551166\n",
              "15            опер.№_12     0.090038\n",
              "16            опер.№_15     0.026417\n",
              "17            опер.№_13     0.022207\n",
              "18            опер.№_18     0.016354\n",
              "19            опер.№_19     0.011284\n",
              "20            опер.№_16     0.003344\n",
              "21            опер.№_17     0.000216\n",
              "22            опер.№_14     0.000128\n",
              "23             опер.№_0     0.000000"
            ],
            "text/html": [
              "\n",
              "  <div id=\"df-ba5d7585-0b9d-4177-a60c-f26a955c5fcd\">\n",
              "    <div class=\"colab-df-container\">\n",
              "      <div>\n",
              "<style scoped>\n",
              "    .dataframe tbody tr th:only-of-type {\n",
              "        vertical-align: middle;\n",
              "    }\n",
              "\n",
              "    .dataframe tbody tr th {\n",
              "        vertical-align: top;\n",
              "    }\n",
              "\n",
              "    .dataframe thead th {\n",
              "        text-align: right;\n",
              "    }\n",
              "</style>\n",
              "<table border=\"1\" class=\"dataframe\">\n",
              "  <thead>\n",
              "    <tr style=\"text-align: right;\">\n",
              "      <th></th>\n",
              "      <th>Feature Id</th>\n",
              "      <th>Importances</th>\n",
              "    </tr>\n",
              "  </thead>\n",
              "  <tbody>\n",
              "    <tr>\n",
              "      <th>0</th>\n",
              "      <td>ст_опер_кол_ваг</td>\n",
              "      <td>25.267956</td>\n",
              "    </tr>\n",
              "    <tr>\n",
              "      <th>1</th>\n",
              "      <td>опер.№_7</td>\n",
              "      <td>16.636402</td>\n",
              "    </tr>\n",
              "    <tr>\n",
              "      <th>2</th>\n",
              "      <td>опер.№_2</td>\n",
              "      <td>10.036059</td>\n",
              "    </tr>\n",
              "    <tr>\n",
              "      <th>3</th>\n",
              "      <td>опер.№_4</td>\n",
              "      <td>8.128971</td>\n",
              "    </tr>\n",
              "    <tr>\n",
              "      <th>4</th>\n",
              "      <td>изм_станции</td>\n",
              "      <td>7.760507</td>\n",
              "    </tr>\n",
              "    <tr>\n",
              "      <th>5</th>\n",
              "      <td>опер.№_5</td>\n",
              "      <td>6.357477</td>\n",
              "    </tr>\n",
              "    <tr>\n",
              "      <th>6</th>\n",
              "      <td>опер.№_1</td>\n",
              "      <td>6.343687</td>\n",
              "    </tr>\n",
              "    <tr>\n",
              "      <th>7</th>\n",
              "      <td>опер.№_3</td>\n",
              "      <td>5.101647</td>\n",
              "    </tr>\n",
              "    <tr>\n",
              "      <th>8</th>\n",
              "      <td>опер.№_9</td>\n",
              "      <td>4.124572</td>\n",
              "    </tr>\n",
              "    <tr>\n",
              "      <th>9</th>\n",
              "      <td>ранг_станции</td>\n",
              "      <td>3.766838</td>\n",
              "    </tr>\n",
              "    <tr>\n",
              "      <th>10</th>\n",
              "      <td>опер.№_6</td>\n",
              "      <td>2.248286</td>\n",
              "    </tr>\n",
              "    <tr>\n",
              "      <th>11</th>\n",
              "      <td>опер.№_8</td>\n",
              "      <td>1.599753</td>\n",
              "    </tr>\n",
              "    <tr>\n",
              "      <th>12</th>\n",
              "      <td>количество_операций</td>\n",
              "      <td>1.287708</td>\n",
              "    </tr>\n",
              "    <tr>\n",
              "      <th>13</th>\n",
              "      <td>опер.№_10</td>\n",
              "      <td>0.618983</td>\n",
              "    </tr>\n",
              "    <tr>\n",
              "      <th>14</th>\n",
              "      <td>опер.№_11</td>\n",
              "      <td>0.551166</td>\n",
              "    </tr>\n",
              "    <tr>\n",
              "      <th>15</th>\n",
              "      <td>опер.№_12</td>\n",
              "      <td>0.090038</td>\n",
              "    </tr>\n",
              "    <tr>\n",
              "      <th>16</th>\n",
              "      <td>опер.№_15</td>\n",
              "      <td>0.026417</td>\n",
              "    </tr>\n",
              "    <tr>\n",
              "      <th>17</th>\n",
              "      <td>опер.№_13</td>\n",
              "      <td>0.022207</td>\n",
              "    </tr>\n",
              "    <tr>\n",
              "      <th>18</th>\n",
              "      <td>опер.№_18</td>\n",
              "      <td>0.016354</td>\n",
              "    </tr>\n",
              "    <tr>\n",
              "      <th>19</th>\n",
              "      <td>опер.№_19</td>\n",
              "      <td>0.011284</td>\n",
              "    </tr>\n",
              "    <tr>\n",
              "      <th>20</th>\n",
              "      <td>опер.№_16</td>\n",
              "      <td>0.003344</td>\n",
              "    </tr>\n",
              "    <tr>\n",
              "      <th>21</th>\n",
              "      <td>опер.№_17</td>\n",
              "      <td>0.000216</td>\n",
              "    </tr>\n",
              "    <tr>\n",
              "      <th>22</th>\n",
              "      <td>опер.№_14</td>\n",
              "      <td>0.000128</td>\n",
              "    </tr>\n",
              "    <tr>\n",
              "      <th>23</th>\n",
              "      <td>опер.№_0</td>\n",
              "      <td>0.000000</td>\n",
              "    </tr>\n",
              "  </tbody>\n",
              "</table>\n",
              "</div>\n",
              "      <button class=\"colab-df-convert\" onclick=\"convertToInteractive('df-ba5d7585-0b9d-4177-a60c-f26a955c5fcd')\"\n",
              "              title=\"Convert this dataframe to an interactive table.\"\n",
              "              style=\"display:none;\">\n",
              "        \n",
              "  <svg xmlns=\"http://www.w3.org/2000/svg\" height=\"24px\"viewBox=\"0 0 24 24\"\n",
              "       width=\"24px\">\n",
              "    <path d=\"M0 0h24v24H0V0z\" fill=\"none\"/>\n",
              "    <path d=\"M18.56 5.44l.94 2.06.94-2.06 2.06-.94-2.06-.94-.94-2.06-.94 2.06-2.06.94zm-11 1L8.5 8.5l.94-2.06 2.06-.94-2.06-.94L8.5 2.5l-.94 2.06-2.06.94zm10 10l.94 2.06.94-2.06 2.06-.94-2.06-.94-.94-2.06-.94 2.06-2.06.94z\"/><path d=\"M17.41 7.96l-1.37-1.37c-.4-.4-.92-.59-1.43-.59-.52 0-1.04.2-1.43.59L10.3 9.45l-7.72 7.72c-.78.78-.78 2.05 0 2.83L4 21.41c.39.39.9.59 1.41.59.51 0 1.02-.2 1.41-.59l7.78-7.78 2.81-2.81c.8-.78.8-2.07 0-2.86zM5.41 20L4 18.59l7.72-7.72 1.47 1.35L5.41 20z\"/>\n",
              "  </svg>\n",
              "      </button>\n",
              "      \n",
              "  <style>\n",
              "    .colab-df-container {\n",
              "      display:flex;\n",
              "      flex-wrap:wrap;\n",
              "      gap: 12px;\n",
              "    }\n",
              "\n",
              "    .colab-df-convert {\n",
              "      background-color: #E8F0FE;\n",
              "      border: none;\n",
              "      border-radius: 50%;\n",
              "      cursor: pointer;\n",
              "      display: none;\n",
              "      fill: #1967D2;\n",
              "      height: 32px;\n",
              "      padding: 0 0 0 0;\n",
              "      width: 32px;\n",
              "    }\n",
              "\n",
              "    .colab-df-convert:hover {\n",
              "      background-color: #E2EBFA;\n",
              "      box-shadow: 0px 1px 2px rgba(60, 64, 67, 0.3), 0px 1px 3px 1px rgba(60, 64, 67, 0.15);\n",
              "      fill: #174EA6;\n",
              "    }\n",
              "\n",
              "    [theme=dark] .colab-df-convert {\n",
              "      background-color: #3B4455;\n",
              "      fill: #D2E3FC;\n",
              "    }\n",
              "\n",
              "    [theme=dark] .colab-df-convert:hover {\n",
              "      background-color: #434B5C;\n",
              "      box-shadow: 0px 1px 3px 1px rgba(0, 0, 0, 0.15);\n",
              "      filter: drop-shadow(0px 1px 2px rgba(0, 0, 0, 0.3));\n",
              "      fill: #FFFFFF;\n",
              "    }\n",
              "  </style>\n",
              "\n",
              "      <script>\n",
              "        const buttonEl =\n",
              "          document.querySelector('#df-ba5d7585-0b9d-4177-a60c-f26a955c5fcd button.colab-df-convert');\n",
              "        buttonEl.style.display =\n",
              "          google.colab.kernel.accessAllowed ? 'block' : 'none';\n",
              "\n",
              "        async function convertToInteractive(key) {\n",
              "          const element = document.querySelector('#df-ba5d7585-0b9d-4177-a60c-f26a955c5fcd');\n",
              "          const dataTable =\n",
              "            await google.colab.kernel.invokeFunction('convertToInteractive',\n",
              "                                                     [key], {});\n",
              "          if (!dataTable) return;\n",
              "\n",
              "          const docLinkHtml = 'Like what you see? Visit the ' +\n",
              "            '<a target=\"_blank\" href=https://colab.research.google.com/notebooks/data_table.ipynb>data table notebook</a>'\n",
              "            + ' to learn more about interactive tables.';\n",
              "          element.innerHTML = '';\n",
              "          dataTable['output_type'] = 'display_data';\n",
              "          await google.colab.output.renderOutput(dataTable, element);\n",
              "          const docLink = document.createElement('div');\n",
              "          docLink.innerHTML = docLinkHtml;\n",
              "          element.appendChild(docLink);\n",
              "        }\n",
              "      </script>\n",
              "    </div>\n",
              "  </div>\n",
              "  "
            ]
          },
          "metadata": {},
          "execution_count": 44
        }
      ]
    },
    {
      "cell_type": "code",
      "source": [
        "CB_feaches = model_CBclass.get_feature_importance(prettified=True)\n",
        "CB_feaches.index = CB_feaches['Feature Id']\n",
        "CB_feaches.plot.bar(figsize=(20,5))\n",
        "plt.ylabel('Уровень значимости признаков')\n",
        "plt.title('Распределение признаков в модели классификации CatBoostClassifier', fontsize = 17)\n",
        "plt.show()"
      ],
      "metadata": {
        "colab": {
          "base_uri": "https://localhost:8080/",
          "height": 460
        },
        "id": "RApfey8Hvi8X",
        "outputId": "b193378e-3827-498a-9857-0a0e38aea283"
      },
      "execution_count": 71,
      "outputs": [
        {
          "output_type": "display_data",
          "data": {
            "text/plain": [
              "<Figure size 1440x360 with 1 Axes>"
            ],
            "image/png": "[encoded data removed]"
          },
          "metadata": {
            "needs_background": "light"
          }
        }
      ]
    },
    {
      "cell_type": "code",
      "source": [
        "# метрики с учетом границы - мы можем выбирать в чем нам лучше ошибиться\n",
        "vf = np.vectorize(lambda x: 1 if x > 0.25 else 0)\n",
        "Y_pred_with_probability = vf(model_CBclass.predict(X_test, prediction_type='Probability')[:, 1])\n",
        "\n",
        "metrics(Y_test, Y_pred_with_probability)"
      ],
      "metadata": {
        "colab": {
          "base_uri": "https://localhost:8080/"
        },
        "id": "vDMkyFfCqS5X",
        "outputId": "b4a32ac3-5afe-44f9-c574-c03a18c4251d"
      },
      "execution_count": 77,
      "outputs": [
        {
          "output_type": "stream",
          "name": "stdout",
          "text": [
            "Матрица:\n",
            "[[37299  9643]\n",
            " [ 3710 16083]]\n",
            "точность (precision) -  0.6252\n",
            "полнота (recall) - 0.8126\n",
            "roc_auc -  0.8036\n",
            "f1_score -  0.7066\n",
            "accuracy -  0.7999100921555405\n"
          ]
        }
      ]
    },
    {
      "cell_type": "code",
      "source": [
        "# Метрики 50/50, т.е. граница 0,5\n",
        "# Матрица:\n",
        "# [[43054  3888]\n",
        "#  [ 7627 12166]]\n",
        "# точность (precision) -  0.7578\n",
        "# полнота (recall) - 0.6147\n",
        "# roc_auc -  0.7659\n",
        "# f1_score -  0.6788\n",
        "# accuracy -  0.8274518618416123"
      ],
      "metadata": {
        "id": "8KSFyaActip6"
      },
      "execution_count": null,
      "outputs": []
    },
    {
      "cell_type": "markdown",
      "source": [
        "**Сохранение модели**"
      ],
      "metadata": {
        "id": "uTdlrgXlunAa"
      }
    },
    {
      "cell_type": "code",
      "source": [
        "model_CBclass.save_model(path+'model_CBclass.bin')"
      ],
      "metadata": {
        "id": "yivqWcq2uZZM"
      },
      "execution_count": 69,
      "outputs": []
    }
  ]
}